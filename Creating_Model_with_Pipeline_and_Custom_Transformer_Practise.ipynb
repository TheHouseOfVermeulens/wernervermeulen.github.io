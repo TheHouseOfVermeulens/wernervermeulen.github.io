{
  "nbformat": 4,
  "nbformat_minor": 0,
  "metadata": {
    "kernelspec": {
      "display_name": "Python 3",
      "language": "python",
      "name": "python3"
    },
    "language_info": {
      "codemirror_mode": {
        "name": "ipython",
        "version": 3
      },
      "file_extension": ".py",
      "mimetype": "text/x-python",
      "name": "python",
      "nbconvert_exporter": "python",
      "pygments_lexer": "ipython3",
      "version": "3.7.3"
    },
    "colab": {
      "name": "Creating Model with Pipeline and Custom Transformer - Practise",
      "provenance": [],
      "include_colab_link": true
    }
  },
  "cells": [
    {
      "cell_type": "markdown",
      "metadata": {
        "id": "view-in-github",
        "colab_type": "text"
      },
      "source": [
        "<a href=\"https://colab.research.google.com/github/TheHouseOfVermeulens/wernervermeulen.github.io/blob/master/Creating_Model_with_Pipeline_and_Custom_Transformer_Practise.ipynb\" target=\"_parent\"><img src=\"https://colab.research.google.com/assets/colab-badge.svg\" alt=\"Open In Colab\"/></a>"
      ]
    },
    {
      "cell_type": "markdown",
      "metadata": {
        "colab_type": "text",
        "id": "0OsRZ5mqdo1X"
      },
      "source": [
        "# Creating Model with Pipeline and Custom Transformer\n",
        "\n",
        "---\n",
        "\n"
      ]
    },
    {
      "cell_type": "markdown",
      "metadata": {
        "id": "rXrZy8dAdbpi",
        "colab_type": "text"
      },
      "source": [
        "## Load Dataset"
      ]
    },
    {
      "cell_type": "code",
      "metadata": {
        "id": "zsjoejQOdbpp",
        "colab_type": "code",
        "colab": {}
      },
      "source": [
        "from sklearn.datasets import fetch_california_housing\n",
        "import pandas as pd"
      ],
      "execution_count": 0,
      "outputs": []
    },
    {
      "cell_type": "code",
      "metadata": {
        "id": "ImApqAx5dbqD",
        "colab_type": "code",
        "outputId": "291e532d-b517-4df3-9364-b3b32d15bc02",
        "colab": {}
      },
      "source": [
        "data = fetch_california_housing()\n",
        "\n",
        "X = pd.DataFrame(data.data, columns=data.feature_names)\n",
        "X.head()"
      ],
      "execution_count": 0,
      "outputs": [
        {
          "output_type": "execute_result",
          "data": {
            "text/html": [
              "<div>\n",
              "<style scoped>\n",
              "    .dataframe tbody tr th:only-of-type {\n",
              "        vertical-align: middle;\n",
              "    }\n",
              "\n",
              "    .dataframe tbody tr th {\n",
              "        vertical-align: top;\n",
              "    }\n",
              "\n",
              "    .dataframe thead th {\n",
              "        text-align: right;\n",
              "    }\n",
              "</style>\n",
              "<table border=\"1\" class=\"dataframe\">\n",
              "  <thead>\n",
              "    <tr style=\"text-align: right;\">\n",
              "      <th></th>\n",
              "      <th>MedInc</th>\n",
              "      <th>HouseAge</th>\n",
              "      <th>AveRooms</th>\n",
              "      <th>AveBedrms</th>\n",
              "      <th>Population</th>\n",
              "      <th>AveOccup</th>\n",
              "      <th>Latitude</th>\n",
              "      <th>Longitude</th>\n",
              "    </tr>\n",
              "  </thead>\n",
              "  <tbody>\n",
              "    <tr>\n",
              "      <th>0</th>\n",
              "      <td>8.3252</td>\n",
              "      <td>41.0</td>\n",
              "      <td>6.984127</td>\n",
              "      <td>1.023810</td>\n",
              "      <td>322.0</td>\n",
              "      <td>2.555556</td>\n",
              "      <td>37.88</td>\n",
              "      <td>-122.23</td>\n",
              "    </tr>\n",
              "    <tr>\n",
              "      <th>1</th>\n",
              "      <td>8.3014</td>\n",
              "      <td>21.0</td>\n",
              "      <td>6.238137</td>\n",
              "      <td>0.971880</td>\n",
              "      <td>2401.0</td>\n",
              "      <td>2.109842</td>\n",
              "      <td>37.86</td>\n",
              "      <td>-122.22</td>\n",
              "    </tr>\n",
              "    <tr>\n",
              "      <th>2</th>\n",
              "      <td>7.2574</td>\n",
              "      <td>52.0</td>\n",
              "      <td>8.288136</td>\n",
              "      <td>1.073446</td>\n",
              "      <td>496.0</td>\n",
              "      <td>2.802260</td>\n",
              "      <td>37.85</td>\n",
              "      <td>-122.24</td>\n",
              "    </tr>\n",
              "    <tr>\n",
              "      <th>3</th>\n",
              "      <td>5.6431</td>\n",
              "      <td>52.0</td>\n",
              "      <td>5.817352</td>\n",
              "      <td>1.073059</td>\n",
              "      <td>558.0</td>\n",
              "      <td>2.547945</td>\n",
              "      <td>37.85</td>\n",
              "      <td>-122.25</td>\n",
              "    </tr>\n",
              "    <tr>\n",
              "      <th>4</th>\n",
              "      <td>3.8462</td>\n",
              "      <td>52.0</td>\n",
              "      <td>6.281853</td>\n",
              "      <td>1.081081</td>\n",
              "      <td>565.0</td>\n",
              "      <td>2.181467</td>\n",
              "      <td>37.85</td>\n",
              "      <td>-122.25</td>\n",
              "    </tr>\n",
              "  </tbody>\n",
              "</table>\n",
              "</div>"
            ],
            "text/plain": [
              "   MedInc  HouseAge  AveRooms  AveBedrms  Population  AveOccup  Latitude  \\\n",
              "0  8.3252      41.0  6.984127   1.023810       322.0  2.555556     37.88   \n",
              "1  8.3014      21.0  6.238137   0.971880      2401.0  2.109842     37.86   \n",
              "2  7.2574      52.0  8.288136   1.073446       496.0  2.802260     37.85   \n",
              "3  5.6431      52.0  5.817352   1.073059       558.0  2.547945     37.85   \n",
              "4  3.8462      52.0  6.281853   1.081081       565.0  2.181467     37.85   \n",
              "\n",
              "   Longitude  \n",
              "0    -122.23  \n",
              "1    -122.22  \n",
              "2    -122.24  \n",
              "3    -122.25  \n",
              "4    -122.25  "
            ]
          },
          "metadata": {
            "tags": []
          },
          "execution_count": 2
        }
      ]
    },
    {
      "cell_type": "code",
      "metadata": {
        "id": "xiwtbeavdbqY",
        "colab_type": "code",
        "outputId": "ed130e15-7533-4126-c777-3985bb4af9dc",
        "colab": {}
      },
      "source": [
        "y = pd.Series(data.target, name='MedPrice')\n",
        "y.head()"
      ],
      "execution_count": 0,
      "outputs": [
        {
          "output_type": "execute_result",
          "data": {
            "text/plain": [
              "0    4.526\n",
              "1    3.585\n",
              "2    3.521\n",
              "3    3.413\n",
              "4    3.422\n",
              "Name: MedPrice, dtype: float64"
            ]
          },
          "metadata": {
            "tags": []
          },
          "execution_count": 3
        }
      ]
    },
    {
      "cell_type": "markdown",
      "metadata": {
        "id": "hnIFfYZpdbql",
        "colab_type": "text"
      },
      "source": [
        "## Train-Test Split"
      ]
    },
    {
      "cell_type": "code",
      "metadata": {
        "id": "vixYhPPhdbqr",
        "colab_type": "code",
        "colab": {}
      },
      "source": [
        "from sklearn.model_selection import train_test_split\n",
        "\n",
        "X_train, X_test, y_train, y_test = \\\n",
        "train_test_split(X, y, test_size=0.2, random_state=0)"
      ],
      "execution_count": 0,
      "outputs": []
    },
    {
      "cell_type": "markdown",
      "metadata": {
        "id": "dsMKtO1idbq2",
        "colab_type": "text"
      },
      "source": [
        "## Create Custom Transformer\n",
        "\n",
        "All transformers in scikit-learn follow this template:\n",
        "\n",
        "```python\n",
        "class TransName(BaseEstimator, TransformerMixin):\n",
        "    def __init__(self):\n",
        "        pass\n",
        "    \n",
        "    def fit(self, X, y=None):\n",
        "        pass\n",
        "        \n",
        "    def transform(self, X):\n",
        "        pass\n",
        "```"
      ]
    },
    {
      "cell_type": "code",
      "metadata": {
        "id": "gdLWkpZZdbq-",
        "colab_type": "code",
        "colab": {}
      },
      "source": [
        "from sklearn.base import BaseEstimator, TransformerMixin\n",
        "import math\n",
        "import numpy as np"
      ],
      "execution_count": 0,
      "outputs": []
    },
    {
      "cell_type": "code",
      "metadata": {
        "id": "6Dp2_4BzdbrI",
        "colab_type": "code",
        "colab": {}
      },
      "source": [
        "class CityDistance(BaseEstimator, TransformerMixin):\n",
        "    def __init__(self):\n",
        "        self.sf = (37.77, -122.41)\n",
        "        self.la = (34.05, -118.24)\n",
        "        \n",
        "    def fit(self, X, y=None):\n",
        "        return self\n",
        "    \n",
        "    def haversine(self, coord1, coord2):\n",
        "        R = 6372800  # Earth radius in meters\n",
        "        lat1, lon1 = coord1\n",
        "        lat2, lon2 = coord2\n",
        "\n",
        "        phi1, phi2 = math.radians(lat1), math.radians(lat2) \n",
        "        dphi       = math.radians(lat2 - lat1)\n",
        "        dlambda    = math.radians(lon2 - lon1)\n",
        "\n",
        "        a = math.sin(dphi/2)**2 + \\\n",
        "            math.cos(phi1)*math.cos(phi2)*math.sin(dlambda/2)**2\n",
        "\n",
        "        return 2*R*math.atan2(math.sqrt(a), math.sqrt(1 - a))  \n",
        "    \n",
        "    def transform(self, X):\n",
        "        X = X.itertuples(index=False, name=None)\n",
        "        results = []\n",
        "        for coord in X:\n",
        "            results.append((self.haversine(self.sf, coord), \n",
        "                            self.haversine(self.la, coord)))\n",
        "        return np.array(results)"
      ],
      "execution_count": 0,
      "outputs": []
    },
    {
      "cell_type": "code",
      "metadata": {
        "id": "b8VQxItVdbrU",
        "colab_type": "code",
        "colab": {}
      },
      "source": [
        "transformer = CityDistance()\n",
        "X_trans = transformer.fit_transform(X[['Latitude', 'Longitude']])"
      ],
      "execution_count": 0,
      "outputs": []
    },
    {
      "cell_type": "code",
      "metadata": {
        "id": "qOUmwzuUdbrh",
        "colab_type": "code",
        "outputId": "a10123d0-505a-426f-af79-df82c88a2be1",
        "colab": {}
      },
      "source": [
        "X[['Latitude', 'Longitude']].head()"
      ],
      "execution_count": 0,
      "outputs": [
        {
          "output_type": "execute_result",
          "data": {
            "text/html": [
              "<div>\n",
              "<style scoped>\n",
              "    .dataframe tbody tr th:only-of-type {\n",
              "        vertical-align: middle;\n",
              "    }\n",
              "\n",
              "    .dataframe tbody tr th {\n",
              "        vertical-align: top;\n",
              "    }\n",
              "\n",
              "    .dataframe thead th {\n",
              "        text-align: right;\n",
              "    }\n",
              "</style>\n",
              "<table border=\"1\" class=\"dataframe\">\n",
              "  <thead>\n",
              "    <tr style=\"text-align: right;\">\n",
              "      <th></th>\n",
              "      <th>Latitude</th>\n",
              "      <th>Longitude</th>\n",
              "    </tr>\n",
              "  </thead>\n",
              "  <tbody>\n",
              "    <tr>\n",
              "      <th>0</th>\n",
              "      <td>37.88</td>\n",
              "      <td>-122.23</td>\n",
              "    </tr>\n",
              "    <tr>\n",
              "      <th>1</th>\n",
              "      <td>37.86</td>\n",
              "      <td>-122.22</td>\n",
              "    </tr>\n",
              "    <tr>\n",
              "      <th>2</th>\n",
              "      <td>37.85</td>\n",
              "      <td>-122.24</td>\n",
              "    </tr>\n",
              "    <tr>\n",
              "      <th>3</th>\n",
              "      <td>37.85</td>\n",
              "      <td>-122.25</td>\n",
              "    </tr>\n",
              "    <tr>\n",
              "      <th>4</th>\n",
              "      <td>37.85</td>\n",
              "      <td>-122.25</td>\n",
              "    </tr>\n",
              "  </tbody>\n",
              "</table>\n",
              "</div>"
            ],
            "text/plain": [
              "   Latitude  Longitude\n",
              "0     37.88    -122.23\n",
              "1     37.86    -122.22\n",
              "2     37.85    -122.24\n",
              "3     37.85    -122.25\n",
              "4     37.85    -122.25"
            ]
          },
          "metadata": {
            "tags": []
          },
          "execution_count": 18
        }
      ]
    },
    {
      "cell_type": "code",
      "metadata": {
        "id": "SPTQFiZIdbrs",
        "colab_type": "code",
        "outputId": "455909a1-4b2e-4020-e739-465ed6baa0b5",
        "colab": {}
      },
      "source": [
        "pd.DataFrame(X_trans, columns=['SF', 'LA']).head()"
      ],
      "execution_count": 0,
      "outputs": [
        {
          "output_type": "execute_result",
          "data": {
            "text/html": [
              "<div>\n",
              "<style scoped>\n",
              "    .dataframe tbody tr th:only-of-type {\n",
              "        vertical-align: middle;\n",
              "    }\n",
              "\n",
              "    .dataframe tbody tr th {\n",
              "        vertical-align: top;\n",
              "    }\n",
              "\n",
              "    .dataframe thead th {\n",
              "        text-align: right;\n",
              "    }\n",
              "</style>\n",
              "<table border=\"1\" class=\"dataframe\">\n",
              "  <thead>\n",
              "    <tr style=\"text-align: right;\">\n",
              "      <th></th>\n",
              "      <th>SF</th>\n",
              "      <th>LA</th>\n",
              "    </tr>\n",
              "  </thead>\n",
              "  <tbody>\n",
              "    <tr>\n",
              "      <th>0</th>\n",
              "      <td>19994.480562</td>\n",
              "      <td>557093.138810</td>\n",
              "    </tr>\n",
              "    <tr>\n",
              "      <th>1</th>\n",
              "      <td>19466.096209</td>\n",
              "      <td>554843.351641</td>\n",
              "    </tr>\n",
              "    <tr>\n",
              "      <th>2</th>\n",
              "      <td>17387.872199</td>\n",
              "      <td>555174.705280</td>\n",
              "    </tr>\n",
              "    <tr>\n",
              "      <th>3</th>\n",
              "      <td>16638.989284</td>\n",
              "      <td>555758.543580</td>\n",
              "    </tr>\n",
              "    <tr>\n",
              "      <th>4</th>\n",
              "      <td>16638.989284</td>\n",
              "      <td>555758.543580</td>\n",
              "    </tr>\n",
              "  </tbody>\n",
              "</table>\n",
              "</div>"
            ],
            "text/plain": [
              "             SF             LA\n",
              "0  19994.480562  557093.138810\n",
              "1  19466.096209  554843.351641\n",
              "2  17387.872199  555174.705280\n",
              "3  16638.989284  555758.543580\n",
              "4  16638.989284  555758.543580"
            ]
          },
          "metadata": {
            "tags": []
          },
          "execution_count": 19
        }
      ]
    },
    {
      "cell_type": "markdown",
      "metadata": {
        "id": "fSjAeK6idbr5",
        "colab_type": "text"
      },
      "source": [
        "## Putting Everything in a Pipeline"
      ]
    },
    {
      "cell_type": "code",
      "metadata": {
        "id": "YtEjQ9tvdbr_",
        "colab_type": "code",
        "colab": {}
      },
      "source": [
        "from sklearn.pipeline import Pipeline\n",
        "from sklearn.compose import ColumnTransformer\n",
        "from sklearn.preprocessing import StandardScaler\n",
        "from sklearn.linear_model import LinearRegression"
      ],
      "execution_count": 0,
      "outputs": []
    },
    {
      "cell_type": "code",
      "metadata": {
        "id": "gPNtTK3hdbsO",
        "colab_type": "code",
        "colab": {}
      },
      "source": [
        "ct = ColumnTransformer([\n",
        "    ('scaler', StandardScaler(), slice(0,6)),\n",
        "    ('city', CityDistance(), slice(6,8))\n",
        "])\n",
        "\n",
        "model = Pipeline([\n",
        "    ('transfomer', ct),\n",
        "    ('predictor', LinearRegression())\n",
        "])\n",
        "\n",
        "model.fit(X_train, y_train);"
      ],
      "execution_count": 0,
      "outputs": []
    },
    {
      "cell_type": "code",
      "metadata": {
        "id": "NDzQXDdidbsZ",
        "colab_type": "code",
        "outputId": "2c514310-0eab-4f65-fb70-de228532bf8f",
        "colab": {}
      },
      "source": [
        "print(model.score(X_train, y_train))\n",
        "print(model.score(X_test, y_test))"
      ],
      "execution_count": 0,
      "outputs": [
        {
          "output_type": "stream",
          "text": [
            "0.5550973930338493\n",
            "0.5394764492039289\n"
          ],
          "name": "stdout"
        }
      ]
    },
    {
      "cell_type": "markdown",
      "metadata": {
        "id": "S33NLomBdbsk",
        "colab_type": "text"
      },
      "source": [
        "But wait: The features that we created, aren't scaled! How can we fix this?"
      ]
    },
    {
      "cell_type": "markdown",
      "metadata": {
        "id": "aubcWoFOdbsp",
        "colab_type": "text"
      },
      "source": [
        "## Improving our model"
      ]
    },
    {
      "cell_type": "code",
      "metadata": {
        "id": "Y0iWod-Mdbst",
        "colab_type": "code",
        "colab": {}
      },
      "source": [
        "from sklearn.preprocessing import PolynomialFeatures"
      ],
      "execution_count": 0,
      "outputs": []
    },
    {
      "cell_type": "code",
      "metadata": {
        "id": "gt3OBcnWdbs3",
        "colab_type": "code",
        "colab": {}
      },
      "source": [
        "cds = Pipeline([\n",
        "    ('city', CityDistance()),\n",
        "    ('scaler', StandardScaler())\n",
        "])\n",
        "\n",
        "ct = ColumnTransformer([\n",
        "    ('scaler', StandardScaler(), slice(0,6)),\n",
        "    ('city', cds, slice(6,8))\n",
        "])\n",
        "\n",
        "model2 = Pipeline([\n",
        "    ('transfomer', ct),\n",
        "    ('poly', PolynomialFeatures(degree=2)),\n",
        "    ('predictor', LinearRegression())\n",
        "])\n",
        "\n",
        "model2.fit(X_train, y_train);"
      ],
      "execution_count": 0,
      "outputs": []
    },
    {
      "cell_type": "code",
      "metadata": {
        "id": "OTTYs50ndbtC",
        "colab_type": "code",
        "outputId": "3613f343-dc2e-410a-89a9-bbc81e1cb7e8",
        "colab": {}
      },
      "source": [
        "print(model2.score(X_train, y_train))"
      ],
      "execution_count": 0,
      "outputs": [
        {
          "output_type": "stream",
          "text": [
            "0.6469174985363584\n"
          ],
          "name": "stdout"
        }
      ]
    },
    {
      "cell_type": "code",
      "metadata": {
        "id": "a5Ta91ZxdbtN",
        "colab_type": "code",
        "colab": {}
      },
      "source": [
        ""
      ],
      "execution_count": 0,
      "outputs": []
    }
  ]
}