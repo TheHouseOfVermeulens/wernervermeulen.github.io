{
  "nbformat": 4,
  "nbformat_minor": 0,
  "metadata": {
    "colab": {
      "name": "Feature Engineering: Kickstarter projects[practice].ipynb",
      "provenance": [],
      "collapsed_sections": [],
      "include_colab_link": true
    },
    "kernelspec": {
      "name": "python3",
      "display_name": "Python 3"
    }
  },
  "cells": [
    {
      "cell_type": "markdown",
      "metadata": {
        "id": "view-in-github",
        "colab_type": "text"
      },
      "source": [
        "<a href=\"https://colab.research.google.com/github/TheHouseOfVermeulens/wernervermeulen.github.io/blob/master/Feature_Engineering_Kickstarter_projects%5Bpractice%5D.ipynb\" target=\"_parent\"><img src=\"https://colab.research.google.com/assets/colab-badge.svg\" alt=\"Open In Colab\"/></a>"
      ]
    },
    {
      "cell_type": "markdown",
      "metadata": {
        "id": "tVp0MI7LFuL8",
        "colab_type": "text"
      },
      "source": [
        "Through hands-on feature engineering applications I have:\n",
        "\n",
        "    Develop a baseline model for comparing performance on models with more features\n",
        "    Encode categorical features so the model can make better use of the information\n",
        "    Generate new features to provide more information for the model\n",
        "    Select features to reduce overfitting and increase prediction speed\n"
      ]
    },
    {
      "cell_type": "markdown",
      "metadata": {
        "id": "_WsJPRofIRQ6",
        "colab_type": "text"
      },
      "source": [
        "Building Kickstarter prediction models: \n",
        "\n",
        "What we can do here is predict if a Kickstarter project will succeed. We get the outcome from the state column. To predict the outcome we can use features such as category, currency, funding goal, country, and when it was launched.\n",
        "\n",
        "The first few rows of the Kickstarter projects data looks like this:"
      ]
    },
    {
      "cell_type": "code",
      "metadata": {
        "id": "63cA9tm6Fazg",
        "colab_type": "code",
        "colab": {}
      },
      "source": [
        "import pandas as pd\n",
        "ks = pd.read_csv('../input/kickstarter-projects/ks-projects-201801.csv',\n",
        "                 parse_dates=['deadline', 'launched'])\n",
        "ks.head(10)"
      ],
      "execution_count": 0,
      "outputs": []
    },
    {
      "cell_type": "markdown",
      "metadata": {
        "id": "ghgCY2M7Iqwi",
        "colab_type": "text"
      },
      "source": [
        "\n",
        "\n",
        "```\n",
        " \tID \tname \tcategory \tmain_category \tcurrency \tdeadline \tgoal \tlaunched \tpledged \tstate \tbackers \tcountry \tusd pledged \tusd_pledged_real \tusd_goal_real\n",
        "0 \t1000002330 \tThe Songs of Adelaide & Abullah \tPoetry \tPublishing \tGBP \t2015-10-09 \t1000.0 \t2015-08-11 12:12:28 \t0.00 \tfailed \t0 \tGB \t0.00 \t0.00 \t1533.95\n",
        "1 \t1000003930 \tGreeting From Earth: ZGAC Arts Capsule For ET \tNarrative Film \tFilm & Video \tUSD \t2017-11-01 \t30000.0 \t2017-09-02 04:43:57 \t2421.00 \tfailed \t15 \tUS \t100.00 \t2421.00 \t30000.00\n",
        "2 \t1000004038 \tWhere is Hank? \tNarrative Film \tFilm & Video \tUSD \t2013-02-26 \t45000.0 \t2013-01-12 00:20:50 \t220.00 \tfailed \t3 \tUS \t220.00 \t220.00 \t45000.00\n",
        "3 \t1000007540 \tToshiCapital Rekordz Needs Help to Complete Album \tMusic \tMusic \tUSD \t2012-04-16 \t5000.0 \t2012-03-17 03:24:11 \t1.00 \tfailed \t1 \tUS \t1.00 \t1.00 \t5000.00\n",
        "4 \t1000011046 \tCommunity Film Project: The Art of Neighborhoo... \tFilm & Video \tFilm & Video \tUSD \t2015-08-29 \t19500.0 \t2015-07-04 08:35:03 \t1283.00 \tcanceled \t14 \tUS \t1283.00 \t1283.00 \t19500.00\n",
        "5 \t1000014025 \tMonarch Espresso Bar \tRestaurants \tFood \tUSD \t2016-04-01 \t50000.0 \t2016-02-26 13:38:27 \t52375.00 \tsuccessful \t224 \tUS \t52375.00 \t52375.00 \t50000.00\n",
        "6 \t1000023410 \tSupport Solar Roasted Coffee & Green Energy! ... \tFood \tFood \tUSD \t2014-12-21 \t1000.0 \t2014-12-01 18:30:44 \t1205.00 \tsuccessful \t16 \tUS \t1205.00 \t1205.00 \t1000.00\n",
        "7 \t1000030581 \tChaser Strips. Our Strips make Shots their B*tch! \tDrinks \tFood \tUSD \t2016-03-17 \t25000.0 \t2016-02-01 20:05:12 \t453.00 \tfailed \t40 \tUS \t453.00 \t453.00 \t25000.00\n",
        "8 \t1000034518 \tSPIN - Premium Retractable In-Ear Headphones w... \tProduct Design \tDesign \tUSD \t2014-05-29 \t125000.0 \t2014-04-24 18:14:43 \t8233.00 \tcanceled \t58 \tUS \t8233.00 \t8233.00 \t125000.00\n",
        "9 \t100004195 \tSTUDIO IN THE SKY - A Documentary Feature Film... \tDocumentary \tFilm & Video \tUSD \t2014-08-10 \t65000.0 \t2014-07-11 21:55:48 \t6240.57 \tcanceled \t43 \tUS \t6240.57 \t6240.57 \t65000.00\n",
        "```\n",
        "\n"
      ]
    },
    {
      "cell_type": "markdown",
      "metadata": {
        "id": "mwkKV1CkJK9U",
        "colab_type": "text"
      },
      "source": [
        "Preparing target column\n",
        "\n",
        "First I'll look at project states and convert the column into something we can use as targets in a model."
      ]
    },
    {
      "cell_type": "code",
      "metadata": {
        "id": "5eNFnU-4IdMH",
        "colab_type": "code",
        "colab": {}
      },
      "source": [
        "pd.unique(ks.state)"
      ],
      "execution_count": 0,
      "outputs": []
    },
    {
      "cell_type": "markdown",
      "metadata": {
        "id": "EmR-MyDLJRw2",
        "colab_type": "text"
      },
      "source": [
        "Out[2]\n",
        "```\n",
        "array(['failed', 'canceled', 'successful', 'live', 'undefined',\n",
        "       'suspended'], dtype=object)\n",
        "```\n",
        "\n"
      ]
    },
    {
      "cell_type": "markdown",
      "metadata": {
        "id": "WWGc63isJZIv",
        "colab_type": "text"
      },
      "source": [
        "We have six states, how many records of each?"
      ]
    },
    {
      "cell_type": "code",
      "metadata": {
        "id": "P0_f4rcbJl5g",
        "colab_type": "code",
        "colab": {}
      },
      "source": [
        "ks.groupby('state')['ID'].count()"
      ],
      "execution_count": 0,
      "outputs": []
    },
    {
      "cell_type": "markdown",
      "metadata": {
        "id": "Ht_nftXNJiP7",
        "colab_type": "text"
      },
      "source": [
        "Out[3]\n",
        "\n",
        "```\n",
        "state\n",
        "canceled       38779\n",
        "failed        197719\n",
        "live            2799\n",
        "successful    133956\n",
        "suspended       1846\n",
        "undefined       3562\n",
        "Name: ID, dtype: int64\n",
        "```\n",
        "\n",
        "\n"
      ]
    },
    {
      "cell_type": "markdown",
      "metadata": {
        "id": "eDQ9hCecJ4EY",
        "colab_type": "text"
      },
      "source": [
        "\n",
        "\n",
        "Data cleaning isn't the current focus, so we'll simplify this example by:\n",
        "\n",
        "    Dropping projects that are \"live\"\n",
        "    Counting \"successful\" states as outcome = 1\n",
        "    Combining every other state as outcome = 0\n",
        "\n"
      ]
    },
    {
      "cell_type": "code",
      "metadata": {
        "id": "icdJEGeaKZs-",
        "colab_type": "code",
        "colab": {}
      },
      "source": [
        "# Drop live projects\n",
        "ks = ks.query('state != \"live\"')\n",
        "\n",
        "# Add outcome column, \"successful\" == 1, others are 0\n",
        "ks = ks.assign(outcome=(ks['state'] == 'successful').astype(int))"
      ],
      "execution_count": 0,
      "outputs": []
    },
    {
      "cell_type": "markdown",
      "metadata": {
        "id": "DNaPvhJzKWmo",
        "colab_type": "text"
      },
      "source": [
        "\n",
        "Converting timestamps\n",
        "\n",
        "I convert the launched feature into categorical features we can use in a model. Since I loaded in the columns as timestamp data, I access date and time values through the .dt attribute on the timestamp column.\n"
      ]
    },
    {
      "cell_type": "code",
      "metadata": {
        "id": "xsqM6GP_KlQH",
        "colab_type": "code",
        "colab": {}
      },
      "source": [
        "ks = ks.assign(hour=ks.launched.dt.hour,\n",
        "               day=ks.launched.dt.day,\n",
        "               month=ks.launched.dt.month,\n",
        "               year=ks.launched.dt.year)"
      ],
      "execution_count": 0,
      "outputs": []
    },
    {
      "cell_type": "markdown",
      "metadata": {
        "id": "QUIwytT9KqWD",
        "colab_type": "text"
      },
      "source": [
        "\n",
        "Prepping categorical variables\n",
        "\n",
        "Now for the categorical variables -- category, currency, and country -- I'll need to convert them into integers so our model can use the data. For this I'll use scikit-learn's LabelEncoder. This assigns an integer to each value of the categorical feature and replaces those values with the integers.\n"
      ]
    },
    {
      "cell_type": "code",
      "metadata": {
        "id": "8mw_bvlpK-Hu",
        "colab_type": "code",
        "colab": {}
      },
      "source": [
        "from sklearn.preprocessing import LabelEncoder\n",
        "\n",
        "cat_features = ['category', 'currency', 'country']\n",
        "encoder = LabelEncoder()\n",
        "\n",
        "# Apply the label encoder to each column\n",
        "encoded = ks[cat_features].apply(encoder.fit_transform)\n",
        "encoded.head(10)"
      ],
      "execution_count": 0,
      "outputs": []
    },
    {
      "cell_type": "markdown",
      "metadata": {
        "id": "wGvBhTWeK8rO",
        "colab_type": "text"
      },
      "source": [
        "Out[4]\n",
        "```\n",
        "   category currency country\n",
        "0 \t108 \t5   \t9\n",
        "1 \t93 \t13 \t  22\n",
        "2 \t93 \t13 \t  22\n",
        "3 \t90 \t13 \t  22\n",
        "4 \t55 \t13 \t  22\n",
        "5 \t123 \t13 \t22\n",
        "6 \t58 \t13 \t  22\n",
        "7 \t41 \t13 \t  22\n",
        "8 \t113 \t13 \t22\n",
        "9 \t39 \t13 \t  22\n",
        "```\n"
      ]
    },
    {
      "cell_type": "markdown",
      "metadata": {
        "id": "yVXIAnAuK5xu",
        "colab_type": "text"
      },
      "source": [
        "I collect all the features we'll use in a new dataframe and use that to train a model."
      ]
    },
    {
      "cell_type": "code",
      "metadata": {
        "id": "vSi72IGnL-Bl",
        "colab_type": "code",
        "colab": {}
      },
      "source": [
        "# Since ks and encoded have the same index and I can easily join them\n",
        "data = ks[['goal', 'hour', 'day', 'month', 'year', 'outcome']].join(encoded)\n",
        "data.head()"
      ],
      "execution_count": 0,
      "outputs": []
    },
    {
      "cell_type": "markdown",
      "metadata": {
        "id": "KmMr3P0nPJGE",
        "colab_type": "text"
      },
      "source": [
        "Out[5]"
      ]
    },
    {
      "cell_type": "code",
      "metadata": {
        "id": "C7_6LuKxMCXX",
        "colab_type": "code",
        "colab": {}
      },
      "source": [
        " \t   goal \thour \t day \tmonth \t year \toutcome \tcategory \tcurrency \tcountry\n",
        "0 \t1000.0 \t 12 \t  11 \t   8 \t   2015 \t  0 \t      108 \t    5 \t       9\n",
        "1 \t30000.0 \t4 \t   2 \t   9 \t   2017 \t  0 \t       93 \t   13 \t      22\n",
        "2 \t45000.0 \t0 \t  12 \t   1 \t   2013 \t  0 \t       93 \t   13 \t      22\n",
        "3 \t5000.0 \t  3 \t  17 \t   3 \t   2012 \t  0 \t       90 \t   13 \t      22\n",
        "4 \t19500.0 \t8 \t   4 \t   7     2015 \t  0 \t       55 \t   13 \t      22"
      ],
      "execution_count": 0,
      "outputs": []
    },
    {
      "cell_type": "markdown",
      "metadata": {
        "id": "U8m1B8scMJYc",
        "colab_type": "text"
      },
      "source": [
        "\n",
        "Creating training, validation, and test splits\n",
        "\n",
        "We need to create data sets for training, validation, and testing. We'll use a fairly simple approach and split the data using slices. We'll use 10% of the data as a validation set, 10% for testing, and the other 80% for training.\n"
      ]
    },
    {
      "cell_type": "code",
      "metadata": {
        "id": "Vs2nDeBtM7CS",
        "colab_type": "code",
        "colab": {}
      },
      "source": [
        "valid_fraction = 0.1\n",
        "valid_size = int(len(data) * valid_fraction)\n",
        "\n",
        "train = data[:-2 * valid_size]\n",
        "valid = data[-2 * valid_size:-valid_size]\n",
        "test = data[-valid_size:]\n"
      ],
      "execution_count": 0,
      "outputs": []
    },
    {
      "cell_type": "markdown",
      "metadata": {
        "id": "AW_JgP_8NHkC",
        "colab_type": "text"
      },
      "source": [
        "In general I am careful that each data set has the same proportion of target classes. I print out the fraction of successful outcomes for each of our datasets."
      ]
    },
    {
      "cell_type": "code",
      "metadata": {
        "id": "Y1x6Fh3WNP61",
        "colab_type": "code",
        "colab": {}
      },
      "source": [
        "for each in [train, valid, test]:\n",
        "    print(f\"Outcome fraction = {each.outcome.mean():.4f}\")\n"
      ],
      "execution_count": 0,
      "outputs": []
    },
    {
      "cell_type": "markdown",
      "metadata": {
        "id": "hXE_sqLgPWWb",
        "colab_type": "text"
      },
      "source": [
        "Out[6]"
      ]
    },
    {
      "cell_type": "code",
      "metadata": {
        "id": "9GqUBrnwPQhb",
        "colab_type": "code",
        "colab": {}
      },
      "source": [
        "\n",
        "Outcome fraction = 0.3570\n",
        "Outcome fraction = 0.3539\n",
        "Outcome fraction = 0.3542"
      ],
      "execution_count": 0,
      "outputs": []
    },
    {
      "cell_type": "markdown",
      "metadata": {
        "id": "jSys1og5NZm-",
        "colab_type": "text"
      },
      "source": [
        "This looks good, each set is around 35% true outcomes likely because the data was well randomized beforehand. A good way to do this automatically is with sklearn.model_selection.StratifiedShuffleSplit but I don't need to use it here."
      ]
    },
    {
      "cell_type": "markdown",
      "metadata": {
        "id": "vhcBuYv6NoCm",
        "colab_type": "text"
      },
      "source": [
        "\n",
        "Training a LightGBM model\n",
        "\n",
        "For this course we'll be using a LightGBM model. This is a tree-based model that typically provides the best performance, even compared to XGBoost. It's also relatively fast to train. We won't do hyperparameter optimization because that isn't the goal of this course. So, our models won't be the absolute best performance you can get. But you'll still see model performance improve as we do feature engineering.\n"
      ]
    },
    {
      "cell_type": "code",
      "metadata": {
        "id": "e6K8vEiLNtLI",
        "colab_type": "code",
        "colab": {}
      },
      "source": [
        "import lightgbm as lgb\n",
        "\n",
        "feature_cols = train.columns.drop('outcome')\n",
        "\n",
        "dtrain = lgb.Dataset(train[feature_cols], label=train['outcome'])\n",
        "dvalid = lgb.Dataset(valid[feature_cols], label=valid['outcome'])\n",
        "\n",
        "param = {'num_leaves': 64, 'objective': 'binary'}\n",
        "param['metric'] = 'auc'\n",
        "num_round = 1000\n",
        "bst = lgb.train(param, dtrain, num_round, valid_sets=[dvalid], early_stopping_rounds=10, verbose_eval=False)"
      ],
      "execution_count": 0,
      "outputs": []
    },
    {
      "cell_type": "markdown",
      "metadata": {
        "id": "0dtZ8K5oNyd7",
        "colab_type": "text"
      },
      "source": [
        "\n",
        "Making predictions & evaluating the model\n",
        "\n",
        "Finally, let's make predictions on the test set with the model and see how well it performs. An important thing to remember is that you can overfit to the validation data. This is why we need a test set that the model never sees until the final evaluation.\n"
      ]
    },
    {
      "cell_type": "code",
      "metadata": {
        "id": "AJ6ISDocN3B_",
        "colab_type": "code",
        "colab": {}
      },
      "source": [
        "from sklearn import metrics\n",
        "ypred = bst.predict(test[feature_cols])\n",
        "score = metrics.roc_auc_score(test['outcome'], ypred)\n",
        "\n",
        "print(f\"Test AUC score: {score}\")\n",
        "\n",
        "Test AUC score: 0.747615303004287"
      ],
      "execution_count": 0,
      "outputs": []
    },
    {
      "cell_type": "markdown",
      "metadata": {
        "id": "WMCtNay8N7kz",
        "colab_type": "text"
      },
      "source": [
        "Looks good from here! #Run and learn"
      ]
    },
    {
      "cell_type": "markdown",
      "metadata": {
        "id": "g4ODLgugaOFT",
        "colab_type": "text"
      },
      "source": [
        "Now that I've built a baseline model, I am ready to improve it with some clever ways to convert categorical variables into numerical features. These encodings will be learned from the data itself. The most basic encodings are one-hot encoding and label encoding. \n",
        "\n",
        "Here, I use count encoding, target encoding (and variations), and singular value decomposition."
      ]
    },
    {
      "cell_type": "markdown",
      "metadata": {
        "id": "gJy_k2vUa--6",
        "colab_type": "text"
      },
      "source": [
        "# Count Encoding\n",
        "\n",
        "Count encoding replaces each categorical value with the number of times it appears in the dataset. For example, if the value \"GB\" occured 10 times in the country feature, then each \"GB\" would be replaced with the number 10."
      ]
    },
    {
      "cell_type": "code",
      "metadata": {
        "id": "C1zb0HNXbAtZ",
        "colab_type": "code",
        "colab": {}
      },
      "source": [
        "import category_encoders as ce\n",
        "cat_features = ['category', 'currency', 'country']\n",
        "count_enc = ce.CountEncoder()\n",
        "count_encoded = count_enc.fit_transform(ks[cat_features])\n",
        "\n",
        "data = baseline_data.join(count_encoded.add_suffix(\"_count\"))\n",
        "\n",
        "# Training a model on the baseline data\n",
        "train, valid, test = get_data_splits(data)\n",
        "bst = train_model(train, valid)"
      ],
      "execution_count": 0,
      "outputs": []
    },
    {
      "cell_type": "markdown",
      "metadata": {
        "id": "1YHqmNJObIVN",
        "colab_type": "text"
      },
      "source": [
        "Out[10]\n",
        "Training model!\n",
        "Validation AUC score: 0.7486"
      ]
    },
    {
      "cell_type": "markdown",
      "metadata": {
        "id": "hoZ4p64YbVSu",
        "colab_type": "text"
      },
      "source": [
        "Adding the count encoding features increase the validation score from 0.7467 to 0.7486, only a slight improvement."
      ]
    },
    {
      "cell_type": "markdown",
      "metadata": {
        "id": "X9TQngdNbhSJ",
        "colab_type": "text"
      },
      "source": [
        "\n",
        "# Target Encoding\n",
        "\n",
        "Target encoding replaces a categorical value with the average value of the target for that value of the feature. For example, given the country value \"CA\", you'd calculate the average outcome for all the rows with country == 'CA', around 0.28. This is often blended with the target probability over the entire dataset to reduce the variance of values with few occurences.\n",
        "\n",
        "This technique uses the targets to create new features. So including the validation or test data in the target encodings would be a form of target leakage. Instead, I should learn the target encodings from the training dataset only and apply it to the other datasets.\n",
        "\n",
        "The category_encoders package provides TargetEncoder for target encoding. The implementation is similar to CountEncoder.\n"
      ]
    },
    {
      "cell_type": "code",
      "metadata": {
        "id": "ZeG1VkFtbbN6",
        "colab_type": "code",
        "colab": {}
      },
      "source": [
        "import category_encoders as ce\n",
        "cat_features = ['category', 'currency', 'country']\n",
        "\n",
        "# Create the encoder itself\n",
        "target_enc = ce.TargetEncoder(cols=cat_features)\n",
        "\n",
        "train, valid, _ = get_data_splits(data)\n",
        "\n",
        "# Fit the encoder using the categorical features and target\n",
        "target_enc.fit(train[cat_features], train['outcome'])\n",
        "\n",
        "# Transform the features, rename the columns with _target suffix, and join to dataframe\n",
        "train = train.join(target_enc.transform(train[cat_features]).add_suffix('_target'))\n",
        "valid = valid.join(target_enc.transform(valid[cat_features]).add_suffix('_target'))\n",
        "\n",
        "train.head()\n",
        "bst = train_model(train, valid)"
      ],
      "execution_count": 0,
      "outputs": []
    },
    {
      "cell_type": "markdown",
      "metadata": {
        "id": "v8IrwubDb_ER",
        "colab_type": "text"
      },
      "source": [
        "Out[11] Training model!\n",
        "Validation AUC score: 0.7491"
      ]
    },
    {
      "cell_type": "markdown",
      "metadata": {
        "id": "C9nWkp3dcLf4",
        "colab_type": "text"
      },
      "source": [
        "The validation score is higher again, from 0.7467 to 0.7491."
      ]
    },
    {
      "cell_type": "markdown",
      "metadata": {
        "id": "2czpL_HqcQ6G",
        "colab_type": "text"
      },
      "source": [
        "\n",
        "# CatBoost Encoding\n",
        "\n",
        "Finally, I look at CatBoost encoding. This is similar to target encoding in that it's based on the target probablity for a given value. However with CatBoost, for each row, the target probability is calculated only from the rows before it.\n"
      ]
    },
    {
      "cell_type": "code",
      "metadata": {
        "id": "XHFat2hycNGD",
        "colab_type": "code",
        "colab": {}
      },
      "source": [
        "cat_features = ['category', 'currency', 'country']\n",
        "target_enc = ce.CatBoostEncoder(cols=cat_features)\n",
        "\n",
        "train, valid, _ = get_data_splits(data)\n",
        "target_enc.fit(train[cat_features], train['outcome'])\n",
        "\n",
        "train = train.join(target_enc.transform(train[cat_features]).add_suffix('_cb'))\n",
        "valid = valid.join(target_enc.transform(valid[cat_features]).add_suffix('_cb'))\n",
        "\n",
        "bst = train_model(train, valid)"
      ],
      "execution_count": 0,
      "outputs": []
    },
    {
      "cell_type": "markdown",
      "metadata": {
        "id": "F6OLBuMUcmPc",
        "colab_type": "text"
      },
      "source": [
        "Out[12]\n",
        "Training model!\n",
        "Validation AUC score: 0.7492"
      ]
    },
    {
      "cell_type": "markdown",
      "metadata": {
        "id": "8iP65I3Gcu0N",
        "colab_type": "text"
      },
      "source": [
        "Does slightly better than TargetEncoding "
      ]
    },
    {
      "cell_type": "markdown",
      "metadata": {
        "id": "Tvc8lKlRdGvl",
        "colab_type": "text"
      },
      "source": [
        "# Creating new features\n"
      ]
    },
    {
      "cell_type": "markdown",
      "metadata": {
        "id": "n9ACzW1jqXKb",
        "colab_type": "text"
      },
      "source": [
        "Creating new features from the raw data is one of the best ways to improve a model. For example, I can calculate the number of total projects in the last week and the duration of the fundraising period. The features I create are different for every dataset, so it takes a bit of creativity and experimentation.  "
      ]
    },
    {
      "cell_type": "markdown",
      "metadata": {
        "id": "ldOOl7OVrUne",
        "colab_type": "text"
      },
      "source": [
        "\n",
        "Interactions\n",
        "\n",
        "One of the easiest ways to create new features is by combining categorical variables. For example, if one record has the country \"CA\" and category \"Music\", I can create a new value \"CA_Music\". This is a new categorical feature that can provide information about correlations between categorical variables. This type of feature is typically called an interaction. In general, I build interaction features from all pairs of categorical features. I can make interactions from three or more features as well, but I tend to get diminishing returns.\n",
        "\n",
        "Pandas lets us simply add string columns together like normal Python strings.\n"
      ]
    },
    {
      "cell_type": "code",
      "metadata": {
        "id": "os65U6ORrsP4",
        "colab_type": "code",
        "colab": {}
      },
      "source": [
        "interactions = ks['category'] + \"_\" + ks['country']\n",
        "print(interactions.head(10))"
      ],
      "execution_count": 0,
      "outputs": []
    },
    {
      "cell_type": "code",
      "metadata": {
        "id": "kqB2uUJYrtiL",
        "colab_type": "code",
        "colab": {}
      },
      "source": [
        "0            Poetry_GB\n",
        "1    Narrative Film_US\n",
        "2    Narrative Film_US\n",
        "3             Music_US\n",
        "4      Film & Video_US\n",
        "5       Restaurants_US\n",
        "6              Food_US\n",
        "7            Drinks_US\n",
        "8    Product Design_US\n",
        "9       Documentary_US\n",
        "dtype: object"
      ],
      "execution_count": 0,
      "outputs": []
    },
    {
      "cell_type": "markdown",
      "metadata": {
        "id": "EsY2-aGWrxay",
        "colab_type": "text"
      },
      "source": [
        "Then, label encode the interaction feature and add it to my data."
      ]
    },
    {
      "cell_type": "code",
      "metadata": {
        "id": "smEXHyAWsB-Q",
        "colab_type": "code",
        "colab": {}
      },
      "source": [
        "label_enc = LabelEncoder()\n",
        "data_interaction = baseline_data.assign(category_country=label_enc.fit_transform(interactions))\n",
        "data_interaction.head()"
      ],
      "execution_count": 0,
      "outputs": []
    },
    {
      "cell_type": "code",
      "metadata": {
        "id": "9BlkXEvtsIMb",
        "colab_type": "code",
        "colab": {}
      },
      "source": [
        " \t   goal \thour \tday \tmonth \tyear \toutcome \tcategory \tcurrency \tcountry \tcategory_country\n",
        "0 \t1000.0 \t 12 \t11 \t    8 \t  2015   \t0 \t       108 \t     5 \t       9 \t       1900\n",
        "1 \t30000.0 \t4 \t 2 \t    9 \t  2017 \t  0 \t        93 \t    13 \t      22 \t       1630\n",
        "2 \t45000.0 \t0 \t12 \t    1 \t  2013 \t  0 \t        93 \t    13 \t      22 \t       1630\n",
        "3 \t5000.0 \t  3 \t17 \t    3 \t  2012 \t  0 \t        90 \t    13 \t      22 \t       1595\n",
        "4 \t19500.0 \t8 \t 4 \t    7 \t  2015 \t  0 \t        55 \t    13 \t      22 \t        979"
      ],
      "execution_count": 0,
      "outputs": []
    },
    {
      "cell_type": "markdown",
      "metadata": {
        "id": "dFFYmRq7sxWm",
        "colab_type": "text"
      },
      "source": [
        "\n",
        "Number of projects in the last week\n",
        "\n",
        "First up I count the number of projects launched in the preceeding week for each record. I use the .rolling method on a series with the \"launched\" column as the index. I create the series, using ks.launched as the index and ks.index as the values, then sort the times. Using a time series as the index allows me to define the rolling window size in terms of hours, days, weeks, etc.\n"
      ]
    },
    {
      "cell_type": "code",
      "metadata": {
        "id": "2U9X13UMtEa2",
        "colab_type": "code",
        "colab": {}
      },
      "source": [
        "# First, create a Series with a timestamp index\n",
        "launched = pd.Series(ks.index, index=ks.launched, name=\"count_7_days\").sort_index()\n",
        "launched.head(20)"
      ],
      "execution_count": 0,
      "outputs": []
    },
    {
      "cell_type": "code",
      "metadata": {
        "id": "hUnAxVs6tHPN",
        "colab_type": "code",
        "colab": {}
      },
      "source": [
        "launched\n",
        "1970-01-01 01:00:00     94579\n",
        "1970-01-01 01:00:00    319002\n",
        "1970-01-01 01:00:00    247913\n",
        "1970-01-01 01:00:00     48147\n",
        "1970-01-01 01:00:00     75397\n",
        "1970-01-01 01:00:00      2842\n",
        "1970-01-01 01:00:00    273779\n",
        "2009-04-21 21:02:48    169268\n",
        "2009-04-23 00:07:53    322000\n",
        "2009-04-24 21:52:03    138572\n",
        "2009-04-25 17:36:21    325391\n",
        "2009-04-27 14:10:39    122662\n",
        "2009-04-28 13:55:41    213711\n",
        "2009-04-29 02:04:21    345606\n",
        "2009-04-29 02:58:50    235255\n",
        "2009-04-29 04:37:37     98954\n",
        "2009-04-29 05:26:32    342226\n",
        "2009-04-29 06:43:44    275091\n",
        "2009-04-29 13:52:03    284115\n",
        "2009-04-29 22:08:13     32898\n",
        "Name: count_7_days, dtype: int64"
      ],
      "execution_count": 0,
      "outputs": []
    },
    {
      "cell_type": "markdown",
      "metadata": {
        "id": "7LnKvvBxtduF",
        "colab_type": "text"
      },
      "source": [
        "With a timeseries index, I can use .rolling to select time periods as the window. For example launched.rolling('7d') creates a rolling window that contains all the data in the previous 7 days. The window contains the current record, so when I want to count all the previous projects but not the current one, I'll have to subtract 1. Plotting the results to make sure it looks right, helps"
      ]
    },
    {
      "cell_type": "code",
      "metadata": {
        "id": "3LkawvpGt3Mw",
        "colab_type": "code",
        "colab": {}
      },
      "source": [
        "count_7_days = launched.rolling('7d').count() - 1\n",
        "print(count_7_days.head(20))\n",
        "\n",
        "# Ignore records with broken launch dates\n",
        "plt.plot(count_7_days[7:]);\n",
        "plt.title(\"Competitions in the last 7 days\");"
      ],
      "execution_count": 0,
      "outputs": []
    },
    {
      "cell_type": "code",
      "metadata": {
        "id": "6Uofhc1pt4bE",
        "colab_type": "code",
        "colab": {}
      },
      "source": [
        "launched\n",
        "1970-01-01 01:00:00     0.0\n",
        "1970-01-01 01:00:00     1.0\n",
        "1970-01-01 01:00:00     2.0\n",
        "1970-01-01 01:00:00     3.0\n",
        "1970-01-01 01:00:00     4.0\n",
        "1970-01-01 01:00:00     5.0\n",
        "1970-01-01 01:00:00     6.0\n",
        "2009-04-21 21:02:48     0.0\n",
        "2009-04-23 00:07:53     1.0\n",
        "2009-04-24 21:52:03     2.0\n",
        "2009-04-25 17:36:21     3.0\n",
        "2009-04-27 14:10:39     4.0\n",
        "2009-04-28 13:55:41     5.0\n",
        "2009-04-29 02:04:21     5.0\n",
        "2009-04-29 02:58:50     6.0\n",
        "2009-04-29 04:37:37     7.0\n",
        "2009-04-29 05:26:32     8.0\n",
        "2009-04-29 06:43:44     9.0\n",
        "2009-04-29 13:52:03    10.0\n",
        "2009-04-29 22:08:13    11.0\n",
        "Name: count_7_days, dtype: float64"
      ],
      "execution_count": 0,
      "outputs": []
    },
    {
      "cell_type": "markdown",
      "metadata": {
        "id": "QsvAmbrsuHDz",
        "colab_type": "text"
      },
      "source": [
        "![image.png](data:image/png;base64,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)"
      ]
    },
    {
      "cell_type": "markdown",
      "metadata": {
        "id": "traLluaBuUJv",
        "colab_type": "text"
      },
      "source": [
        "Now that we have the counts, we need to adjust the index so we can join it with the other training data."
      ]
    },
    {
      "cell_type": "code",
      "metadata": {
        "id": "UD8LVjvMuAra",
        "colab_type": "code",
        "colab": {}
      },
      "source": [
        "count_7_days.index = launched.values\n",
        "count_7_days = count_7_days.reindex(ks.index)\n"
      ],
      "execution_count": 0,
      "outputs": []
    },
    {
      "cell_type": "code",
      "metadata": {
        "id": "r9KMApG6ulda",
        "colab_type": "code",
        "colab": {}
      },
      "source": [
        "count_7_days.head(10)"
      ],
      "execution_count": 0,
      "outputs": []
    },
    {
      "cell_type": "code",
      "metadata": {
        "id": "18Reboqyuot7",
        "colab_type": "code",
        "colab": {}
      },
      "source": [
        "0    1409.0\n",
        "1     957.0\n",
        "2     739.0\n",
        "3     907.0\n",
        "4    1429.0\n",
        "5    1284.0\n",
        "6    1119.0\n",
        "7    1391.0\n",
        "8    1043.0\n",
        "9    3199.0\n",
        "Name: count_7_days, dtype: float64"
      ],
      "execution_count": 0,
      "outputs": []
    },
    {
      "cell_type": "markdown",
      "metadata": {
        "id": "f5MWza1yugqK",
        "colab_type": "text"
      },
      "source": [
        "Now I join the new feature with the other data again using .join since we've matched the index."
      ]
    },
    {
      "cell_type": "code",
      "metadata": {
        "id": "RXoqIQD4u3CK",
        "colab_type": "code",
        "colab": {}
      },
      "source": [
        "baseline_data.join(count_7_days).head(10)\n"
      ],
      "execution_count": 0,
      "outputs": []
    },
    {
      "cell_type": "code",
      "metadata": {
        "id": "HIWNxIATu4QT",
        "colab_type": "code",
        "colab": {}
      },
      "source": [
        " \t   goal \thour \tday \tmonth \tyear \toutcome \tcategory \tcurrency \tcountry \tcount_7_days\n",
        "0 \t1000.0 \t 12 \t11 \t    8 \t  2015 \t  0 \t      108 \t     5 \t       9 \t     1409.0\n",
        "1 \t30000.0 \t4 \t2 \t    9 \t  2017 \t  0 \t       93 \t    13 \t      22 \t      957.0\n",
        "2 \t45000.0 \t0 \t12 \t    1 \t  2013 \t  0 \t       93 \t    13 \t      22 \t      739.0\n",
        "3 \t5000.0 \t  3 \t17 \t    3 \t  2012 \t  0 \t       90 \t    13 \t      22 \t      907.0\n",
        "4 \t19500.0 \t8 \t4 \t    7 \t  2015 \t  0 \t       55 \t    13 \t      22 \t     1429.0\n",
        "5 \t50000.0  13 \t26 \t    2 \t  2016 \t  1 \t      123 \t    13      \t22 \t     1284.0\n",
        "6 \t1000.0 \t 18 \t1 \t   12 \t  2014 \t  1 \t       58 \t    13 \t      22 \t     1119.0\n",
        "7 \t25000.0  20 \t1 \t    2 \t  2016 \t  0 \t       41 \t    13      \t22 \t     1391.0\n",
        "8 \t125000.0 18 \t24 \t    4 \t  2014 \t  0 \t      113 \t    13      \t22 \t     1043.0\n",
        "9 \t65000.0  21 \t11 \t    7 \t  2014 \t  0 \t       39 \t    13 \t      22 \t     3199.0"
      ],
      "execution_count": 0,
      "outputs": []
    },
    {
      "cell_type": "markdown",
      "metadata": {
        "id": "2kFuLZTcv01b",
        "colab_type": "text"
      },
      "source": [
        "\n",
        "Time since the last project in the same category\n",
        "\n",
        "Do projects in the same category compete for donors? If an entrepreneur is trying to fund a video game and another game project was just launched, the entrepreneurs might not get as much money. I can capture this by calculating the time since the last launch project in the same category.\n",
        "\n",
        "A handy method for performing operations within groups is to use .groupby then .transform. The .transform method takes a function then passes a series or dataframe to that function for each group. This returns a dataframe with the same indices as the original dataframe. In this case, I perform a groupby on \"category\" and use transform to calculate the time differences for each category.\n"
      ]
    },
    {
      "cell_type": "code",
      "metadata": {
        "id": "wRMRWh7_wh55",
        "colab_type": "code",
        "colab": {}
      },
      "source": [
        "def time_since_last_project(series):\n",
        "    # Return the time in hours\n",
        "    return series.diff().dt.total_seconds() / 3600.\n",
        "\n",
        "df = ks[['category', 'launched']].sort_values('launched')\n",
        "timedeltas = df.groupby('category').transform(time_since_last_project)\n",
        "timedeltas.head(20)"
      ],
      "execution_count": 0,
      "outputs": []
    },
    {
      "cell_type": "code",
      "metadata": {
        "id": "VUbspv4jwm2O",
        "colab_type": "code",
        "colab": {}
      },
      "source": [
        " \t     launched\n",
        "94579 \tNaN\n",
        "319002 \tNaN\n",
        "247913 \tNaN\n",
        "48147 \tNaN\n",
        "75397 \tNaN\n",
        "2842 \t  0.000000\n",
        "273779 \tNaN\n",
        "169268 \tNaN\n",
        "322000 \tNaN\n",
        "138572 \tNaN\n",
        "325391 \tNaN\n",
        "122662 \t137.130833\n",
        "213711 \tNaN\n",
        "345606 \t145.941111\n",
        "235255 \tNaN\n",
        "98954 \t344715.626944\n",
        "342226 \tNaN\n",
        "275091 \tNaN\n",
        "284115 \tNaN\n",
        "32898 \tNaN"
      ],
      "execution_count": 0,
      "outputs": []
    },
    {
      "cell_type": "markdown",
      "metadata": {
        "id": "vncCZZSrxFps",
        "colab_type": "text"
      },
      "source": [
        "I get NaNs here for projects that are the first in their category. I'll have to fill those in with the mean or median. I also need to reset the index so I can join it with the other data."
      ]
    },
    {
      "cell_type": "code",
      "metadata": {
        "id": "ji8MNb4dw0FC",
        "colab_type": "code",
        "colab": {}
      },
      "source": [
        "# Final time since last project\n",
        "timedeltas = timedeltas.fillna(timedeltas.median()).reindex(baseline_data.index)\n",
        "timedeltas.head(20)"
      ],
      "execution_count": 0,
      "outputs": []
    },
    {
      "cell_type": "code",
      "metadata": {
        "id": "v_JC21cww44u",
        "colab_type": "code",
        "colab": {}
      },
      "source": [
        " \t   launched\n",
        "0 \t18.606111\n",
        "1 \t5.592778\n",
        "2 \t1.313611\n",
        "3 \t0.635000\n",
        "4 \t16.661389\n",
        "5 \t2.629722\n",
        "6 \t0.367500\n",
        "7 \t12.286111\n",
        "8 \t14.243611\n",
        "9 \t0.174722\n",
        "10 \t1.372222\n",
        "11 \t8.524444\n",
        "12 \t0.015833\n",
        "13 \t9.884444\n",
        "14 \t1.725556\n",
        "15 \t3.806111\n",
        "16 \t2.654167\n",
        "17 \t26.531667\n",
        "18 \t12.273611\n",
        "19 \t9.288889"
      ],
      "execution_count": 0,
      "outputs": []
    },
    {
      "cell_type": "markdown",
      "metadata": {
        "id": "isZWKYEnxdmd",
        "colab_type": "text"
      },
      "source": [
        "\n",
        "Transforming numerical features\n",
        "\n",
        "The distribution of the values in \"goal\" shows that most projects have goals less than 5000 USD. However, there is a long tail of goals going up to $100,000. Some models work better when the features are normally distributed, so it might help to transform the goal values. Common choices for this are the square root and natural logarithm. These transformations can also help constrain outliers.\n",
        "\n",
        "Here I'll transform the goal feature using the square root and log functions, then fit a model to see if it helps\n"
      ]
    },
    {
      "cell_type": "code",
      "metadata": {
        "id": "HM6MM4B7xuIb",
        "colab_type": "code",
        "colab": {}
      },
      "source": [
        "plt.hist(ks.goal, range=(0, 100000), bins=50);\n",
        "plt.title('Goal');\n"
      ],
      "execution_count": 0,
      "outputs": []
    },
    {
      "cell_type": "code",
      "metadata": {
        "id": "2GnPJbtKxvW9",
        "colab_type": "code",
        "colab": {}
      },
      "source": [
        ""
      ],
      "execution_count": 0,
      "outputs": []
    },
    {
      "cell_type": "markdown",
      "metadata": {
        "id": "gcCttMv9xzG1",
        "colab_type": "text"
      },
      "source": [
        "![image.png](data:image/png;base64,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))"
      ]
    },
    {
      "cell_type": "code",
      "metadata": {
        "id": "rZt3RTa9x-UR",
        "colab_type": "code",
        "colab": {}
      },
      "source": [
        "plt.hist(np.sqrt(ks.goal), range=(0, 400), bins=50);\n",
        "plt.title('Sqrt(Goal)');"
      ],
      "execution_count": 0,
      "outputs": []
    },
    {
      "cell_type": "markdown",
      "metadata": {
        "id": "JGTuX3eGx_s6",
        "colab_type": "text"
      },
      "source": [
        "![image.png](data:image/png;base64,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)"
      ]
    },
    {
      "cell_type": "code",
      "metadata": {
        "id": "akaVzFhKyNS_",
        "colab_type": "code",
        "colab": {}
      },
      "source": [
        "plt.hist(np.log(ks.goal), range=(0, 25), bins=50);\n",
        "plt.title('Log(Goal)');"
      ],
      "execution_count": 0,
      "outputs": []
    },
    {
      "cell_type": "markdown",
      "metadata": {
        "id": "pHtxPqJbyL-W",
        "colab_type": "text"
      },
      "source": [
        "![image.png](data:image/png;base64,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)![alt text](https://)"
      ]
    },
    {
      "cell_type": "markdown",
      "metadata": {
        "id": "FJww7X5ByTqA",
        "colab_type": "text"
      },
      "source": [
        "The log transformation won't help our model since tree-based models are scale invariant. However, this should help if we had a linear model or neural network.\n",
        "\n",
        "Other transformations include squares and other powers, exponentials, etc. These might help the model discriminate, like the kernel trick for SVMs. Again, it takes a bit of experimentation to see what works. One method is to create a bunch of new features and later choose the best ones with feature selection algorithms."
      ]
    },
    {
      "cell_type": "markdown",
      "metadata": {
        "id": "MLzTvSckyIe7",
        "colab_type": "text"
      },
      "source": [
        "# Feature selection"
      ]
    },
    {
      "cell_type": "markdown",
      "metadata": {
        "id": "ZmOHE-7a84Px",
        "colab_type": "text"
      },
      "source": [
        "First up #Note here: Often I have seen hundreds and thousands of features after various encodings and feature generation. This can lead to two problems. First, the more features I have, the more likely I am to overfit to the training and validation sets. This will cause my model to perform worse at generalizing to new data.\n",
        "\n",
        "Secondly, the more features I have, the longer it will take to train my model and optimize hyperparameters. Also, when building user-facing products, I want to make inference as fast as possible. Using fewer features can speed up inference at the cost of predictive performance.\n",
        "\n",
        "To help with these issues, I want to use feature selection techniques to keep the most informative features for your model."
      ]
    },
    {
      "cell_type": "markdown",
      "metadata": {
        "id": "F6O25hJ7-FTB",
        "colab_type": "text"
      },
      "source": [
        "# Univariate Feature Selection\n",
        "\n",
        "The simplest and fastest methods are based on univariate statistical tests. For each feature, measure how strongly the target depends on the feature using a statistical test like 𝜒2\n",
        "\n",
        "or ANOVA.\n",
        "\n",
        "From the scikit-learn feature selection module, feature_selection.SelectKBest returns the K best features given some scoring function. For our classification problem, the module provides three different scoring functions: 𝜒2\n",
        "\n",
        ", ANOVA F-value, and the mutual information score. The F-value measures the linear dependency between the feature variable and the target. This means the score might underestimate the relation between a feature and the target if the relationship is nonlinear. The mutual information score is nonparametric and so can capture nonlinear relationships.\n",
        "\n",
        "With SelectKBest, we define the number of features to keep, based on the score from the scoring function. Using .fit_transform(features, target) we get back an array with only the selected features."
      ]
    },
    {
      "cell_type": "code",
      "metadata": {
        "id": "xRULB7Q0-KHG",
        "colab_type": "code",
        "colab": {}
      },
      "source": [
        "from sklearn.feature_selection import SelectKBest, f_classif\n",
        "\n",
        "feature_cols = baseline_data.columns.drop('outcome')\n",
        "\n",
        "# Keep 5 features\n",
        "selector = SelectKBest(f_classif, k=5)\n",
        "\n",
        "X_new = selector.fit_transform(baseline_data[feature_cols], baseline_data['outcome'])\n",
        "X_new"
      ],
      "execution_count": 0,
      "outputs": []
    },
    {
      "cell_type": "code",
      "metadata": {
        "id": "KEhDVKBS-1k7",
        "colab_type": "code",
        "colab": {}
      },
      "source": [
        "array([[2015.,    5.,    9.,   18., 1409.],\n",
        "       [2017.,   13.,   22.,   31.,  957.],\n",
        "       [2013.,   13.,   22.,   31.,  739.],\n",
        "       ...,\n",
        "       [2010.,   13.,   22.,   31.,  238.],\n",
        "       [2016.,   13.,   22.,   31., 1100.],\n",
        "       [2011.,   13.,   22.,   31.,  542.]])"
      ],
      "execution_count": 0,
      "outputs": []
    },
    {
      "cell_type": "markdown",
      "metadata": {
        "id": "c1lWOkSd_ByO",
        "colab_type": "text"
      },
      "source": [
        "# Note here:\n",
        "The statistical tests are calculated using all of the data. This means information from the validation and test sets could influence the features we keep, introducing a source of leakage. This means I should select features using only a training set."
      ]
    },
    {
      "cell_type": "code",
      "metadata": {
        "id": "DyoK7c-G_K0n",
        "colab_type": "code",
        "colab": {}
      },
      "source": [
        "feature_cols = baseline_data.columns.drop('outcome')\n",
        "train, valid, _ = get_data_splits(baseline_data)\n",
        "\n",
        "# Keep 5 features\n",
        "selector = SelectKBest(f_classif, k=5)\n",
        "\n",
        "X_new = selector.fit_transform(train[feature_cols], train['outcome'])\n",
        "X_new"
      ],
      "execution_count": 0,
      "outputs": []
    },
    {
      "cell_type": "code",
      "metadata": {
        "id": "xPd-zRzF_MGb",
        "colab_type": "code",
        "colab": {}
      },
      "source": [
        "array([[2.015e+03, 5.000e+00, 9.000e+00, 1.800e+01, 1.409e+03],\n",
        "       [2.017e+03, 1.300e+01, 2.200e+01, 3.100e+01, 9.570e+02],\n",
        "       [2.013e+03, 1.300e+01, 2.200e+01, 3.100e+01, 7.390e+02],\n",
        "       ...,\n",
        "       [2.011e+03, 1.300e+01, 2.200e+01, 3.100e+01, 5.150e+02],\n",
        "       [2.015e+03, 1.000e+00, 3.000e+00, 2.000e+00, 1.306e+03],\n",
        "       [2.013e+03, 1.300e+01, 2.200e+01, 3.100e+01, 1.084e+03]])"
      ],
      "execution_count": 0,
      "outputs": []
    },
    {
      "cell_type": "markdown",
      "metadata": {
        "id": "DRfvjUbg_aWD",
        "colab_type": "text"
      },
      "source": [
        "# Note here:\n",
        "The selected features are different than when I used the entire dataset. Now I have our selected features, but it's only the feature values for the training set. To drop the rejected features from the validation and test sets, I need to figure out which columns in the dataset were kept with SelectKBest. To do this, I can use .inverse_transform to get back an array with the shape of the original data."
      ]
    },
    {
      "cell_type": "code",
      "metadata": {
        "id": "Na80FKmG_s9N",
        "colab_type": "code",
        "colab": {}
      },
      "source": [
        "# Get back the features we've kept, zero out all other features\n",
        "selected_features = pd.DataFrame(selector.inverse_transform(X_new), \n",
        "                                 index=train.index, \n",
        "                                 columns=feature_cols)\n",
        "selected_features.head()"
      ],
      "execution_count": 0,
      "outputs": []
    },
    {
      "cell_type": "code",
      "metadata": {
        "id": "xiCYy4s0AAIM",
        "colab_type": "code",
        "colab": {}
      },
      "source": [
        " \t  goal \thour \tday \tmonth \tyear \tcategory \tcurrency \tcountry \tcategory_currency \tcategory_country \tcurrency_country \tcount_7_days \ttime_since_last_project\n",
        "0 \t0.0 \t0.0 \t0.0 \t0.0 \t2015.0 \t0.0 \t        5.0 \t9.0 \t        0.0 \t                0.0 \t            18.0 \t1409.0 \t0.0\n",
        "1 \t0.0 \t0.0 \t0.0 \t0.0 \t2017.0 \t0.0 \t       13.0 \t22.0 \t        0.0 \t                0.0             \t31.0 \t957.0 \t0.0\n",
        "2 \t0.0 \t0.0 \t0.0 \t0.0 \t2013.0 \t0.0 \t       13.0 \t22.0 \t        0.0 \t                0.0             \t31.0 \t739.0 \t0.0\n",
        "3 \t0.0 \t0.0 \t0.0 \t0.0 \t2012.0 \t0.0 \t       13.0 \t22.0 \t        0.0                 \t0.0              \t31.0 \t907.0 \t0.0\n",
        "4 \t0.0 \t0.0 \t0.0 \t0.0 \t2015.0 \t0.0 \t       13.0 \t22.0 \t        0.0 \t                0.0 \t            31.0 \t1429.0 \t0.0"
      ],
      "execution_count": 0,
      "outputs": []
    },
    {
      "cell_type": "markdown",
      "metadata": {
        "id": "g9l5mEYaAwRg",
        "colab_type": "text"
      },
      "source": [
        "This returns a DataFrame with the same index and columns as the training set, but all the dropped columns are filled with zeros. I can find the selected columns by choosing features where the variance is non-zero."
      ]
    },
    {
      "cell_type": "code",
      "metadata": {
        "id": "86F_bod4A8MW",
        "colab_type": "code",
        "colab": {}
      },
      "source": [
        " Dropped columns have values of all 0s, so var is 0, drop them\n",
        "selected_columns = selected_features.columns[selected_features.var() != 0]\n",
        "\n",
        "# Get the valid dataset with the selected features.\n",
        "valid[selected_columns].head()"
      ],
      "execution_count": 0,
      "outputs": []
    },
    {
      "cell_type": "code",
      "metadata": {
        "id": "eIV_oqprA_op",
        "colab_type": "code",
        "colab": {}
      },
      "source": [
        " \t      year \tcurrency \tcountry \tcurrency_country \tcount_7_days\n",
        "302896 \t2015 \t13 \t        22 \t          31 \t              1534.0\n",
        "302897 \t2013 \t13 \t        22 \t          31 \t               625.0\n",
        "302898 \t2014 \t5 \t         9 \t          18 \t               851.0\n",
        "302899 \t2014 \t13 \t        22 \t          31 \t              1973.0\n",
        "302900 \t2014 \t5 \t         9 \t          18 \t              2163.0"
      ],
      "execution_count": 0,
      "outputs": []
    },
    {
      "cell_type": "markdown",
      "metadata": {
        "id": "qQmeu4SdBix5",
        "colab_type": "text"
      },
      "source": [
        "\n",
        "# L1 regularization\n",
        "\n",
        "Univariate methods consider only one feature at a time when making a selection decision. Instead, I can make our selection using all of the features by including them in a linear model with L1 regularization. This type of regularization (sometimes called Lasso) penalizes the absolute magnitude of the coefficients, as compared to L2 (Ridge) regression which penalizes the square of the coefficients.\n",
        "\n",
        "As the strength of regularization is increased, features which are less important for predicting the target are set to 0. This allows us to perform feature selection by adjusting the regularization parameter. I choose the parameter by finding the best performance on a hold-out set, or decide ahead of time how many features to keep.\n",
        "\n",
        "For regression problems I can use sklearn.linear_model.Lasso, or sklearn.linear_model.LogisticRegression for classification. These can be used along with sklearn.feature_selection.SelectFromModel to select the non-zero coefficients. Otherwise, the code is similar to the univariate tests.\n"
      ]
    },
    {
      "cell_type": "code",
      "metadata": {
        "id": "QQhrs1ewB4GY",
        "colab_type": "code",
        "colab": {}
      },
      "source": [
        "from sklearn.linear_model import LogisticRegression\n",
        "from sklearn.feature_selection import SelectFromModel\n",
        "\n",
        "train, valid, _ = get_data_splits(baseline_data)\n",
        "\n",
        "X, y = train[train.columns.drop(\"outcome\")], train['outcome']\n",
        "\n",
        "# Set the regularization parameter C=1\n",
        "logistic = LogisticRegression(C=1, penalty=\"l1\", random_state=7).fit(X, y)\n",
        "model = SelectFromModel(logistic, prefit=True)\n",
        "\n",
        "X_new = model.transform(X)\n",
        "X_new"
      ],
      "execution_count": 0,
      "outputs": []
    },
    {
      "cell_type": "code",
      "metadata": {
        "id": "tPcBwKS6B5YQ",
        "colab_type": "code",
        "colab": {}
      },
      "source": [
        "\n",
        "\n",
        "/opt/conda/lib/python3.6/site-packages/sklearn/linear_model/logistic.py:432: FutureWarning: Default solver will be changed to 'lbfgs' in 0.22. Specify a solver to silence this warning.\n",
        "  FutureWarning)\n",
        "\n",
        "array([[1.000e+03, 1.200e+01, 1.100e+01, ..., 1.900e+03, 1.800e+01,\n",
        "        1.409e+03],\n",
        "       [3.000e+04, 4.000e+00, 2.000e+00, ..., 1.630e+03, 3.100e+01,\n",
        "        9.570e+02],\n",
        "       [4.500e+04, 0.000e+00, 1.200e+01, ..., 1.630e+03, 3.100e+01,\n",
        "        7.390e+02],\n",
        "       ...,\n",
        "       [2.500e+03, 0.000e+00, 3.000e+00, ..., 1.830e+03, 3.100e+01,\n",
        "        5.150e+02],\n",
        "       [2.600e+03, 2.100e+01, 2.300e+01, ..., 1.036e+03, 2.000e+00,\n",
        "        1.306e+03],\n",
        "       [2.000e+04, 1.600e+01, 4.000e+00, ..., 9.200e+02, 3.100e+01,\n",
        "        1.084e+03]])\n",
        "\n"
      ],
      "execution_count": 0,
      "outputs": []
    },
    {
      "cell_type": "markdown",
      "metadata": {
        "id": "JW_CqX9rCA2-",
        "colab_type": "text"
      },
      "source": [
        "Similar to the univariate tests, I get back an array with the selected features. Again, I will want to convert these to a DataFrame so I can get the selected columns."
      ]
    },
    {
      "cell_type": "code",
      "metadata": {
        "id": "lXp8E0rmCJmY",
        "colab_type": "code",
        "colab": {}
      },
      "source": [
        "# Get back the kept features as a DataFrame with dropped columns as all 0s\n",
        "selected_features = pd.DataFrame(model.inverse_transform(X_new), \n",
        "                                 index=X.index,\n",
        "                                 columns=X.columns)\n",
        "\n",
        "# Dropped columns have values of all 0s, keep other columns \n",
        "selected_columns = selected_features.columns[selected_features.var() != 0]"
      ],
      "execution_count": 0,
      "outputs": []
    },
    {
      "cell_type": "markdown",
      "metadata": {
        "id": "P4srzY6uCN9U",
        "colab_type": "text"
      },
      "source": [
        "In this case with the L1 parameter C=1, by dropping the time_since_last_project column.\n",
        "\n",
        "In general, feature selection with L1 regularization is more powerful the univariate tests, but it can also be very slow when I have a lot of data and a lot of features. Univariate tests will be much faster on large datasets, but also will likely perform worse."
      ]
    }
  ]
}