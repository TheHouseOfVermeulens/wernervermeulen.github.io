{
  "nbformat": 4,
  "nbformat_minor": 0,
  "metadata": {
    "colab": {
      "name": "Feature Engineering: Kickstarter projects[practice].ipynb",
      "provenance": [],
      "include_colab_link": true
    },
    "kernelspec": {
      "name": "python3",
      "display_name": "Python 3"
    }
  },
  "cells": [
    {
      "cell_type": "markdown",
      "metadata": {
        "id": "view-in-github",
        "colab_type": "text"
      },
      "source": [
        "<a href=\"https://colab.research.google.com/github/TheHouseOfVermeulens/wernervermeulen.github.io/blob/master/Feature_Engineering_Kickstarter_projects%5Bpractice%5D.ipynb\" target=\"_parent\"><img src=\"https://colab.research.google.com/assets/colab-badge.svg\" alt=\"Open In Colab\"/></a>"
      ]
    },
    {
      "cell_type": "markdown",
      "metadata": {
        "id": "tVp0MI7LFuL8",
        "colab_type": "text"
      },
      "source": [
        "Through hands-on feature engineering applications I have:\n",
        "\n",
        "    Develop a baseline model for comparing performance on models with more features\n",
        "    Encode categorical features so the model can make better use of the information\n",
        "    Generate new features to provide more information for the model\n",
        "    Select features to reduce overfitting and increase prediction speed\n"
      ]
    },
    {
      "cell_type": "markdown",
      "metadata": {
        "id": "_WsJPRofIRQ6",
        "colab_type": "text"
      },
      "source": [
        "Building Kickstarter prediction models: \n",
        "\n",
        "What we can do here is predict if a Kickstarter project will succeed. We get the outcome from the state column. To predict the outcome we can use features such as category, currency, funding goal, country, and when it was launched.\n",
        "\n",
        "The first few rows of the Kickstarter projects data looks like this:"
      ]
    },
    {
      "cell_type": "code",
      "metadata": {
        "id": "63cA9tm6Fazg",
        "colab_type": "code",
        "colab": {}
      },
      "source": [
        "import pandas as pd\n",
        "ks = pd.read_csv('../input/kickstarter-projects/ks-projects-201801.csv',\n",
        "                 parse_dates=['deadline', 'launched'])\n",
        "ks.head(10)"
      ],
      "execution_count": 0,
      "outputs": []
    },
    {
      "cell_type": "markdown",
      "metadata": {
        "id": "ghgCY2M7Iqwi",
        "colab_type": "text"
      },
      "source": [
        "\n",
        "\n",
        "```\n",
        " \tID \tname \tcategory \tmain_category \tcurrency \tdeadline \tgoal \tlaunched \tpledged \tstate \tbackers \tcountry \tusd pledged \tusd_pledged_real \tusd_goal_real\n",
        "0 \t1000002330 \tThe Songs of Adelaide & Abullah \tPoetry \tPublishing \tGBP \t2015-10-09 \t1000.0 \t2015-08-11 12:12:28 \t0.00 \tfailed \t0 \tGB \t0.00 \t0.00 \t1533.95\n",
        "1 \t1000003930 \tGreeting From Earth: ZGAC Arts Capsule For ET \tNarrative Film \tFilm & Video \tUSD \t2017-11-01 \t30000.0 \t2017-09-02 04:43:57 \t2421.00 \tfailed \t15 \tUS \t100.00 \t2421.00 \t30000.00\n",
        "2 \t1000004038 \tWhere is Hank? \tNarrative Film \tFilm & Video \tUSD \t2013-02-26 \t45000.0 \t2013-01-12 00:20:50 \t220.00 \tfailed \t3 \tUS \t220.00 \t220.00 \t45000.00\n",
        "3 \t1000007540 \tToshiCapital Rekordz Needs Help to Complete Album \tMusic \tMusic \tUSD \t2012-04-16 \t5000.0 \t2012-03-17 03:24:11 \t1.00 \tfailed \t1 \tUS \t1.00 \t1.00 \t5000.00\n",
        "4 \t1000011046 \tCommunity Film Project: The Art of Neighborhoo... \tFilm & Video \tFilm & Video \tUSD \t2015-08-29 \t19500.0 \t2015-07-04 08:35:03 \t1283.00 \tcanceled \t14 \tUS \t1283.00 \t1283.00 \t19500.00\n",
        "5 \t1000014025 \tMonarch Espresso Bar \tRestaurants \tFood \tUSD \t2016-04-01 \t50000.0 \t2016-02-26 13:38:27 \t52375.00 \tsuccessful \t224 \tUS \t52375.00 \t52375.00 \t50000.00\n",
        "6 \t1000023410 \tSupport Solar Roasted Coffee & Green Energy! ... \tFood \tFood \tUSD \t2014-12-21 \t1000.0 \t2014-12-01 18:30:44 \t1205.00 \tsuccessful \t16 \tUS \t1205.00 \t1205.00 \t1000.00\n",
        "7 \t1000030581 \tChaser Strips. Our Strips make Shots their B*tch! \tDrinks \tFood \tUSD \t2016-03-17 \t25000.0 \t2016-02-01 20:05:12 \t453.00 \tfailed \t40 \tUS \t453.00 \t453.00 \t25000.00\n",
        "8 \t1000034518 \tSPIN - Premium Retractable In-Ear Headphones w... \tProduct Design \tDesign \tUSD \t2014-05-29 \t125000.0 \t2014-04-24 18:14:43 \t8233.00 \tcanceled \t58 \tUS \t8233.00 \t8233.00 \t125000.00\n",
        "9 \t100004195 \tSTUDIO IN THE SKY - A Documentary Feature Film... \tDocumentary \tFilm & Video \tUSD \t2014-08-10 \t65000.0 \t2014-07-11 21:55:48 \t6240.57 \tcanceled \t43 \tUS \t6240.57 \t6240.57 \t65000.00\n",
        "```\n",
        "\n"
      ]
    },
    {
      "cell_type": "markdown",
      "metadata": {
        "id": "mwkKV1CkJK9U",
        "colab_type": "text"
      },
      "source": [
        "Preparing target column\n",
        "\n",
        "First I'll look at project states and convert the column into something we can use as targets in a model."
      ]
    },
    {
      "cell_type": "code",
      "metadata": {
        "id": "5eNFnU-4IdMH",
        "colab_type": "code",
        "colab": {}
      },
      "source": [
        "pd.unique(ks.state)"
      ],
      "execution_count": 0,
      "outputs": []
    },
    {
      "cell_type": "markdown",
      "metadata": {
        "id": "EmR-MyDLJRw2",
        "colab_type": "text"
      },
      "source": [
        "Out[2]\n",
        "```\n",
        "array(['failed', 'canceled', 'successful', 'live', 'undefined',\n",
        "       'suspended'], dtype=object)\n",
        "```\n",
        "\n"
      ]
    },
    {
      "cell_type": "markdown",
      "metadata": {
        "id": "WWGc63isJZIv",
        "colab_type": "text"
      },
      "source": [
        "We have six states, how many records of each?"
      ]
    },
    {
      "cell_type": "code",
      "metadata": {
        "id": "P0_f4rcbJl5g",
        "colab_type": "code",
        "colab": {}
      },
      "source": [
        "ks.groupby('state')['ID'].count()"
      ],
      "execution_count": 0,
      "outputs": []
    },
    {
      "cell_type": "markdown",
      "metadata": {
        "id": "Ht_nftXNJiP7",
        "colab_type": "text"
      },
      "source": [
        "Out[3]\n",
        "\n",
        "```\n",
        "state\n",
        "canceled       38779\n",
        "failed        197719\n",
        "live            2799\n",
        "successful    133956\n",
        "suspended       1846\n",
        "undefined       3562\n",
        "Name: ID, dtype: int64\n",
        "```\n",
        "\n",
        "\n"
      ]
    },
    {
      "cell_type": "markdown",
      "metadata": {
        "id": "eDQ9hCecJ4EY",
        "colab_type": "text"
      },
      "source": [
        "\n",
        "\n",
        "Data cleaning isn't the current focus, so we'll simplify this example by:\n",
        "\n",
        "    Dropping projects that are \"live\"\n",
        "    Counting \"successful\" states as outcome = 1\n",
        "    Combining every other state as outcome = 0\n",
        "\n"
      ]
    },
    {
      "cell_type": "code",
      "metadata": {
        "id": "icdJEGeaKZs-",
        "colab_type": "code",
        "colab": {}
      },
      "source": [
        "# Drop live projects\n",
        "ks = ks.query('state != \"live\"')\n",
        "\n",
        "# Add outcome column, \"successful\" == 1, others are 0\n",
        "ks = ks.assign(outcome=(ks['state'] == 'successful').astype(int))"
      ],
      "execution_count": 0,
      "outputs": []
    },
    {
      "cell_type": "markdown",
      "metadata": {
        "id": "DNaPvhJzKWmo",
        "colab_type": "text"
      },
      "source": [
        "\n",
        "Converting timestamps\n",
        "\n",
        "I convert the launched feature into categorical features we can use in a model. Since I loaded in the columns as timestamp data, I access date and time values through the .dt attribute on the timestamp column.\n"
      ]
    },
    {
      "cell_type": "code",
      "metadata": {
        "id": "xsqM6GP_KlQH",
        "colab_type": "code",
        "colab": {}
      },
      "source": [
        "ks = ks.assign(hour=ks.launched.dt.hour,\n",
        "               day=ks.launched.dt.day,\n",
        "               month=ks.launched.dt.month,\n",
        "               year=ks.launched.dt.year)"
      ],
      "execution_count": 0,
      "outputs": []
    },
    {
      "cell_type": "markdown",
      "metadata": {
        "id": "QUIwytT9KqWD",
        "colab_type": "text"
      },
      "source": [
        "\n",
        "Prepping categorical variables\n",
        "\n",
        "Now for the categorical variables -- category, currency, and country -- I'll need to convert them into integers so our model can use the data. For this I'll use scikit-learn's LabelEncoder. This assigns an integer to each value of the categorical feature and replaces those values with the integers.\n"
      ]
    },
    {
      "cell_type": "code",
      "metadata": {
        "id": "8mw_bvlpK-Hu",
        "colab_type": "code",
        "colab": {}
      },
      "source": [
        "from sklearn.preprocessing import LabelEncoder\n",
        "\n",
        "cat_features = ['category', 'currency', 'country']\n",
        "encoder = LabelEncoder()\n",
        "\n",
        "# Apply the label encoder to each column\n",
        "encoded = ks[cat_features].apply(encoder.fit_transform)\n",
        "encoded.head(10)"
      ],
      "execution_count": 0,
      "outputs": []
    },
    {
      "cell_type": "markdown",
      "metadata": {
        "id": "wGvBhTWeK8rO",
        "colab_type": "text"
      },
      "source": [
        "Out[4]\n",
        "```\n",
        "   category currency country\n",
        "0 \t108 \t5   \t9\n",
        "1 \t93 \t13 \t  22\n",
        "2 \t93 \t13 \t  22\n",
        "3 \t90 \t13 \t  22\n",
        "4 \t55 \t13 \t  22\n",
        "5 \t123 \t13 \t22\n",
        "6 \t58 \t13 \t  22\n",
        "7 \t41 \t13 \t  22\n",
        "8 \t113 \t13 \t22\n",
        "9 \t39 \t13 \t  22\n",
        "```\n"
      ]
    },
    {
      "cell_type": "markdown",
      "metadata": {
        "id": "yVXIAnAuK5xu",
        "colab_type": "text"
      },
      "source": [
        "I collect all the features we'll use in a new dataframe and use that to train a model."
      ]
    },
    {
      "cell_type": "code",
      "metadata": {
        "id": "vSi72IGnL-Bl",
        "colab_type": "code",
        "colab": {}
      },
      "source": [
        "# Since ks and encoded have the same index and I can easily join them\n",
        "data = ks[['goal', 'hour', 'day', 'month', 'year', 'outcome']].join(encoded)\n",
        "data.head()"
      ],
      "execution_count": 0,
      "outputs": []
    },
    {
      "cell_type": "markdown",
      "metadata": {
        "id": "KmMr3P0nPJGE",
        "colab_type": "text"
      },
      "source": [
        "Out[5]"
      ]
    },
    {
      "cell_type": "code",
      "metadata": {
        "id": "C7_6LuKxMCXX",
        "colab_type": "code",
        "colab": {}
      },
      "source": [
        " \t   goal \thour \t day \tmonth \t year \toutcome \tcategory \tcurrency \tcountry\n",
        "0 \t1000.0 \t 12 \t  11 \t   8 \t   2015 \t  0 \t      108 \t    5 \t       9\n",
        "1 \t30000.0 \t4 \t   2 \t   9 \t   2017 \t  0 \t       93 \t   13 \t      22\n",
        "2 \t45000.0 \t0 \t  12 \t   1 \t   2013 \t  0 \t       93 \t   13 \t      22\n",
        "3 \t5000.0 \t  3 \t  17 \t   3 \t   2012 \t  0 \t       90 \t   13 \t      22\n",
        "4 \t19500.0 \t8 \t   4 \t   7     2015 \t  0 \t       55 \t   13 \t      22"
      ],
      "execution_count": 0,
      "outputs": []
    },
    {
      "cell_type": "markdown",
      "metadata": {
        "id": "U8m1B8scMJYc",
        "colab_type": "text"
      },
      "source": [
        "\n",
        "Creating training, validation, and test splits\n",
        "\n",
        "We need to create data sets for training, validation, and testing. We'll use a fairly simple approach and split the data using slices. We'll use 10% of the data as a validation set, 10% for testing, and the other 80% for training.\n"
      ]
    },
    {
      "cell_type": "code",
      "metadata": {
        "id": "Vs2nDeBtM7CS",
        "colab_type": "code",
        "colab": {}
      },
      "source": [
        "valid_fraction = 0.1\n",
        "valid_size = int(len(data) * valid_fraction)\n",
        "\n",
        "train = data[:-2 * valid_size]\n",
        "valid = data[-2 * valid_size:-valid_size]\n",
        "test = data[-valid_size:]\n"
      ],
      "execution_count": 0,
      "outputs": []
    },
    {
      "cell_type": "markdown",
      "metadata": {
        "id": "AW_JgP_8NHkC",
        "colab_type": "text"
      },
      "source": [
        "In general I am careful that each data set has the same proportion of target classes. I print out the fraction of successful outcomes for each of our datasets."
      ]
    },
    {
      "cell_type": "code",
      "metadata": {
        "id": "Y1x6Fh3WNP61",
        "colab_type": "code",
        "colab": {}
      },
      "source": [
        "for each in [train, valid, test]:\n",
        "    print(f\"Outcome fraction = {each.outcome.mean():.4f}\")\n"
      ],
      "execution_count": 0,
      "outputs": []
    },
    {
      "cell_type": "markdown",
      "metadata": {
        "id": "hXE_sqLgPWWb",
        "colab_type": "text"
      },
      "source": [
        "Out[6]"
      ]
    },
    {
      "cell_type": "code",
      "metadata": {
        "id": "9GqUBrnwPQhb",
        "colab_type": "code",
        "colab": {}
      },
      "source": [
        "\n",
        "Outcome fraction = 0.3570\n",
        "Outcome fraction = 0.3539\n",
        "Outcome fraction = 0.3542"
      ],
      "execution_count": 0,
      "outputs": []
    },
    {
      "cell_type": "markdown",
      "metadata": {
        "id": "jSys1og5NZm-",
        "colab_type": "text"
      },
      "source": [
        "This looks good, each set is around 35% true outcomes likely because the data was well randomized beforehand. A good way to do this automatically is with sklearn.model_selection.StratifiedShuffleSplit but I don't need to use it here."
      ]
    },
    {
      "cell_type": "markdown",
      "metadata": {
        "id": "vhcBuYv6NoCm",
        "colab_type": "text"
      },
      "source": [
        "\n",
        "Training a LightGBM model\n",
        "\n",
        "For this course we'll be using a LightGBM model. This is a tree-based model that typically provides the best performance, even compared to XGBoost. It's also relatively fast to train. We won't do hyperparameter optimization because that isn't the goal of this course. So, our models won't be the absolute best performance you can get. But you'll still see model performance improve as we do feature engineering.\n"
      ]
    },
    {
      "cell_type": "code",
      "metadata": {
        "id": "e6K8vEiLNtLI",
        "colab_type": "code",
        "colab": {}
      },
      "source": [
        "import lightgbm as lgb\n",
        "\n",
        "feature_cols = train.columns.drop('outcome')\n",
        "\n",
        "dtrain = lgb.Dataset(train[feature_cols], label=train['outcome'])\n",
        "dvalid = lgb.Dataset(valid[feature_cols], label=valid['outcome'])\n",
        "\n",
        "param = {'num_leaves': 64, 'objective': 'binary'}\n",
        "param['metric'] = 'auc'\n",
        "num_round = 1000\n",
        "bst = lgb.train(param, dtrain, num_round, valid_sets=[dvalid], early_stopping_rounds=10, verbose_eval=False)"
      ],
      "execution_count": 0,
      "outputs": []
    },
    {
      "cell_type": "markdown",
      "metadata": {
        "id": "0dtZ8K5oNyd7",
        "colab_type": "text"
      },
      "source": [
        "\n",
        "Making predictions & evaluating the model\n",
        "\n",
        "Finally, let's make predictions on the test set with the model and see how well it performs. An important thing to remember is that you can overfit to the validation data. This is why we need a test set that the model never sees until the final evaluation.\n"
      ]
    },
    {
      "cell_type": "code",
      "metadata": {
        "id": "AJ6ISDocN3B_",
        "colab_type": "code",
        "colab": {}
      },
      "source": [
        "from sklearn import metrics\n",
        "ypred = bst.predict(test[feature_cols])\n",
        "score = metrics.roc_auc_score(test['outcome'], ypred)\n",
        "\n",
        "print(f\"Test AUC score: {score}\")\n",
        "\n",
        "Test AUC score: 0.747615303004287"
      ],
      "execution_count": 0,
      "outputs": []
    },
    {
      "cell_type": "markdown",
      "metadata": {
        "id": "WMCtNay8N7kz",
        "colab_type": "text"
      },
      "source": [
        "Looks good from here! #Run and learn"
      ]
    }
  ]
}