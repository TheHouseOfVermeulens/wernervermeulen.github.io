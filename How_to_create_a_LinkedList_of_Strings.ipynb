{
  "nbformat": 4,
  "nbformat_minor": 0,
  "metadata": {
    "colab": {
      "name": "How to create a LinkedList of Strings.ipynb",
      "provenance": [],
      "include_colab_link": true
    },
    "kernelspec": {
      "name": "python3",
      "display_name": "Python 3"
    }
  },
  "cells": [
    {
      "cell_type": "markdown",
      "metadata": {
        "id": "view-in-github",
        "colab_type": "text"
      },
      "source": [
        "<a href=\"https://colab.research.google.com/github/TheHouseOfVermeulens/wernervermeulen.github.io/blob/master/How_to_create_a_LinkedList_of_Strings.ipynb\" target=\"_parent\"><img src=\"https://colab.research.google.com/assets/colab-badge.svg\" alt=\"Open In Colab\"/></a>"
      ]
    },
    {
      "cell_type": "markdown",
      "metadata": {
        "id": "ZXGxWWWXpMXW",
        "colab_type": "text"
      },
      "source": [
        "The sample code below demonstrates how to create a LinkedList of Strings, and some of the operations that can be performed on it"
      ]
    },
    {
      "cell_type": "code",
      "metadata": {
        "id": "M_UlZ5tNpEua",
        "colab_type": "code",
        "colab": {}
      },
      "source": [
        "\n",
        "\n",
        "LinkedList<String> myLinkedList = new LinkedList<String>();\n",
        "\n",
        "// Add a node with data=\"First\" to back of the (empty) list\n",
        "myLinkedList.add(\"First\"); \n",
        "\n",
        "// Add a node with data=\"Second\" to the back of the list\n",
        "myLinkedList.add(\"Second\"); \n",
        "\n",
        "// Insert a node with data=\"Third\" at front of the list\n",
        "myLinkedList.addFirst(\"Third\"); \n",
        "\n",
        "// Insert a node with data=\"Fourth\" at back of the list\n",
        "myLinkedList.addLast(\"Fourth\"); \n",
        "\n",
        "// Insert a node with data=\"Fifth\" at index 2\n",
        "myLinkedList.add(2, \"Fifth\"); \n",
        "\n",
        "// Print the list: [Third, First, Fifth, Second, Fourth]\n",
        "System.out.println(myLinkedList); \n",
        "\n",
        "// Print the value at list index 2:\n",
        "System.out.println(myLinkedList.get(2));\n",
        "\n",
        "// Empty the list\n",
        "myLinkedList.clear();\n",
        "\n",
        "// Print the newly emptied list: []\n",
        "System.out.println(myLinkedList); \n",
        "\n",
        "// Adds a node with data=\"Sixth\" to back of the (empty) list\n",
        "myLinkedList.add(\"Sixth\"); \n",
        "System.out.println(myLinkedList); // print the list: [Sixth]\n"
      ],
      "execution_count": 0,
      "outputs": []
    },
    {
      "cell_type": "markdown",
      "metadata": {
        "id": "iHY4TtRppi-W",
        "colab_type": "text"
      },
      "source": [
        "The above code produces the following output: "
      ]
    },
    {
      "cell_type": "code",
      "metadata": {
        "id": "7_Ec15n1pm8o",
        "colab_type": "code",
        "colab": {}
      },
      "source": [
        "[Third, First, Fifth, Second, Fourth]\n",
        "Fifth\n",
        "[]\n",
        "[Sixth]"
      ],
      "execution_count": 0,
      "outputs": []
    },
    {
      "cell_type": "code",
      "metadata": {
        "id": "-4stuKMjpqFG",
        "colab_type": "code",
        "colab": {}
      },
      "source": [
        ""
      ],
      "execution_count": 0,
      "outputs": []
    }
  ]
}