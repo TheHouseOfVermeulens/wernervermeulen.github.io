{
  "nbformat": 4,
  "nbformat_minor": 0,
  "metadata": {
    "kernelspec": {
      "display_name": "Python 3",
      "language": "python",
      "name": "python3"
    },
    "language_info": {
      "codemirror_mode": {
        "name": "ipython",
        "version": 3
      },
      "file_extension": ".py",
      "mimetype": "text/x-python",
      "name": "python",
      "nbconvert_exporter": "python",
      "pygments_lexer": "ipython3",
      "version": "3.7.6"
    },
    "colab": {
      "name": "housing-prices-competition-kaggle-learners-top-10.ipynb",
      "provenance": [],
      "include_colab_link": true
    }
  },
  "cells": [
    {
      "cell_type": "markdown",
      "metadata": {
        "id": "view-in-github",
        "colab_type": "text"
      },
      "source": [
        "<a href=\"https://colab.research.google.com/github/TheHouseOfVermeulens/wernervermeulen.github.io/blob/master/housing_prices_competition_kaggle_learners_top_10.ipynb\" target=\"_parent\"><img src=\"https://colab.research.google.com/assets/colab-badge.svg\" alt=\"Open In Colab\"/></a>"
      ]
    },
    {
      "cell_type": "markdown",
      "metadata": {
        "id": "PISxEy5L4-1n",
        "colab_type": "text"
      },
      "source": [
        "### This Notebook is in collaboration with team members which received a top 10% ranking on Kaggle."
      ]
    },
    {
      "cell_type": "markdown",
      "metadata": {
        "id": "zQVos-WT46U3",
        "colab_type": "text"
      },
      "source": [
        "# Regression"
      ]
    },
    {
      "cell_type": "markdown",
      "metadata": {
        "id": "wFMUCWN946U7",
        "colab_type": "text"
      },
      "source": [
        "Basic Libraries"
      ]
    },
    {
      "cell_type": "code",
      "metadata": {
        "id": "2tfjCXSV46U8",
        "colab_type": "code",
        "colab": {}
      },
      "source": [
        "#Importing the libraries\n",
        "import numpy as np\n",
        "import pandas as pd\n",
        "\n",
        "from sklearn.pipeline import Pipeline\n",
        "from sklearn.impute import SimpleImputer\n",
        "from sklearn.compose import ColumnTransformer\n",
        "from sklearn.linear_model import Ridge, Lasso\n",
        "from sklearn.preprocessing import StandardScaler, OneHotEncoder\n",
        "from sklearn.ensemble import AdaBoostRegressor, RandomForestRegressor, GradientBoostingRegressor\n",
        "from sklearn.tree import DecisionTreeRegressor\n",
        "from xgboost import XGBRegressor, XGBRFRegressor\n",
        "from sklearn.neighbors import KNeighborsRegressor\n",
        "from sklearn.svm import SVC\n",
        "from sklearn.metrics import mean_squared_log_error, mean_absolute_error\n",
        "from lightgbm import LGBMRegressor\n",
        "from sklearn.decomposition import PCA, TruncatedSVD\n",
        "\n",
        "from math import sqrt\n",
        "import warnings\n",
        "warnings.filterwarnings('ignore')"
      ],
      "execution_count": 0,
      "outputs": []
    },
    {
      "cell_type": "markdown",
      "metadata": {
        "id": "1sN_71m-46VG",
        "colab_type": "text"
      },
      "source": [
        "Loading Data in Kaggle"
      ]
    },
    {
      "cell_type": "code",
      "metadata": {
        "id": "HPDV-ELl46VH",
        "colab_type": "code",
        "colab": {}
      },
      "source": [
        "#Reading data files\n",
        "import os\n",
        "if not os.path.exists(\"../input/train.csv\"):\n",
        "    os.symlink(\"../input/home-data-for-ml-course/train.csv\", \"../input/train.csv\")  \n",
        "    os.symlink(\"../input/home-data-for-ml-course/test.csv\", \"../input/test.csv\") \n",
        "\n",
        "iowa_file_path = '../input/train.csv'\n",
        "home_data = pd.read_csv(iowa_file_path)\n",
        "test_data_path = '../input/test.csv'\n",
        "test_data = pd.read_csv(test_data_path)\n",
        "sample_path = '../input/sample_submission.csv'\n",
        "sample = pd.read_csv(sample_path)\n",
        "RANDOM_STATE=0  #to make use of in train-test split as well as model for randomness"
      ],
      "execution_count": 0,
      "outputs": []
    },
    {
      "cell_type": "markdown",
      "metadata": {
        "id": "tVDWtRxm46VN",
        "colab_type": "text"
      },
      "source": [
        "Feature Engineering"
      ]
    },
    {
      "cell_type": "code",
      "metadata": {
        "id": "U4-6T3Gn46VO",
        "colab_type": "code",
        "colab": {}
      },
      "source": [
        "#Dropping features with high missing values\n",
        "train_clean=home_data.drop(columns=['MiscFeature','Fence','PoolQC','FireplaceQu','Alley'])"
      ],
      "execution_count": 0,
      "outputs": []
    },
    {
      "cell_type": "code",
      "metadata": {
        "id": "4Ai7FVp246VU",
        "colab_type": "code",
        "colab": {}
      },
      "source": [
        "#Creating features and labels\n",
        "X=train_clean.drop(columns=['SalePrice'])\n",
        "y=home_data[['SalePrice']]"
      ],
      "execution_count": 0,
      "outputs": []
    },
    {
      "cell_type": "code",
      "metadata": {
        "id": "dNOtRl4Z46Va",
        "colab_type": "code",
        "colab": {},
        "outputId": "268390fc-fc8b-4f1c-e855-bd17ac932064"
      },
      "source": [
        "#Split the dataset to evaluate out sample performance\n",
        "from sklearn.model_selection import train_test_split\n",
        "X_train, X_test, y_train, y_test=train_test_split(X,y, test_size=0.15, random_state=RANDOM_STATE)\n",
        "print(X_train.shape, X_test.shape, y_train.shape, y_test.shape)"
      ],
      "execution_count": 0,
      "outputs": [
        {
          "output_type": "stream",
          "text": [
            "(1241, 75) (219, 75) (1241, 1) (219, 1)\n"
          ],
          "name": "stdout"
        }
      ]
    },
    {
      "cell_type": "code",
      "metadata": {
        "id": "WVJMFHsP46Vm",
        "colab_type": "code",
        "colab": {}
      },
      "source": [
        "#Seperation of numerical and categorical features\n",
        "num_feat=X_train.select_dtypes(include='number').columns.to_list()\n",
        "cat_feat=X_train.select_dtypes(exclude='number').columns.to_list()"
      ],
      "execution_count": 0,
      "outputs": []
    },
    {
      "cell_type": "markdown",
      "metadata": {
        "id": "497M6Pm646Vy",
        "colab_type": "text"
      },
      "source": [
        "Pipeline"
      ]
    },
    {
      "cell_type": "code",
      "metadata": {
        "id": "haYE4MvN46Vz",
        "colab_type": "code",
        "colab": {}
      },
      "source": [
        "num_pipe=Pipeline([\n",
        "    ('imputer', SimpleImputer(strategy='median')),\n",
        "    ('scaler', StandardScaler())\n",
        "])\n",
        "cat_pipe=Pipeline([\n",
        "    ('imputer', SimpleImputer(strategy='most_frequent')),\n",
        "    ('encoder', OneHotEncoder(handle_unknown='ignore'))\n",
        "])\n",
        "ct=ColumnTransformer(remainder='drop',\n",
        "                    transformers=[\n",
        "                        ('numerical', num_pipe, num_feat),\n",
        "                        ('categorical', cat_pipe, cat_feat)\n",
        "                    ])\n",
        "model=Pipeline([\n",
        "    ('transformer', ct),   \n",
        "    ('predictor', GradientBoostingRegressor())\n",
        "])"
      ],
      "execution_count": 0,
      "outputs": []
    },
    {
      "cell_type": "code",
      "metadata": {
        "id": "zfq1d5l946V8",
        "colab_type": "code",
        "colab": {}
      },
      "source": [
        "model.fit(X_train, y_train);"
      ],
      "execution_count": 0,
      "outputs": []
    },
    {
      "cell_type": "markdown",
      "metadata": {
        "id": "JlvGXTvP46WG",
        "colab_type": "text"
      },
      "source": [
        "Prediction"
      ]
    },
    {
      "cell_type": "code",
      "metadata": {
        "id": "6C5TcBFF46WI",
        "colab_type": "code",
        "colab": {}
      },
      "source": [
        "y_pred_train=model.predict(X_train)\n",
        "y_pred_test=model.predict(X_test)"
      ],
      "execution_count": 0,
      "outputs": []
    },
    {
      "cell_type": "markdown",
      "metadata": {
        "id": "3L4_te3X46WS",
        "colab_type": "text"
      },
      "source": [
        "Evaluation of Result"
      ]
    },
    {
      "cell_type": "code",
      "metadata": {
        "id": "pjO58Wt946WT",
        "colab_type": "code",
        "colab": {},
        "outputId": "9f345660-4fa2-4263-9251-3884f35fae60"
      },
      "source": [
        "print('In sample MAE error: ', round(mean_absolute_error(y_pred_train, y_train)))\n",
        "print('Out sample MAE error: ', round(mean_absolute_error(y_pred_test, y_test)))"
      ],
      "execution_count": 0,
      "outputs": [
        {
          "output_type": "stream",
          "text": [
            "In sample MAE error:  10313.0\n",
            "Out sample MAE error:  15660.0\n"
          ],
          "name": "stdout"
        }
      ]
    },
    {
      "cell_type": "code",
      "metadata": {
        "id": "v--OiSk546WZ",
        "colab_type": "code",
        "colab": {}
      },
      "source": [
        "#model.fit(X,y);"
      ],
      "execution_count": 0,
      "outputs": []
    },
    {
      "cell_type": "markdown",
      "metadata": {
        "id": "tqeuSg9a46We",
        "colab_type": "text"
      },
      "source": [
        "Result Submission"
      ]
    },
    {
      "cell_type": "code",
      "metadata": {
        "id": "r_7VEd3946Wf",
        "colab_type": "code",
        "colab": {}
      },
      "source": [
        "def submission(test, model):\n",
        "    y_pred=model.predict(test)\n",
        "    result=pd.DataFrame({'Id':sample.Id, 'SalePrice':y_pred})\n",
        "    result.to_csv('/kaggle/working/result.csv',index=False)"
      ],
      "execution_count": 0,
      "outputs": []
    },
    {
      "cell_type": "code",
      "metadata": {
        "id": "2UCyqfmw46Wj",
        "colab_type": "code",
        "colab": {}
      },
      "source": [
        "submission(test_data, model)"
      ],
      "execution_count": 0,
      "outputs": []
    },
    {
      "cell_type": "code",
      "metadata": {
        "id": "AvLRGOMa46Wn",
        "colab_type": "code",
        "colab": {},
        "outputId": "212dbffd-6179-4946-ab98-46542817f92e"
      },
      "source": [
        "check=pd.read_csv('/kaggle/working/result.csv')\n",
        "check.head()"
      ],
      "execution_count": 0,
      "outputs": [
        {
          "output_type": "execute_result",
          "data": {
            "text/html": [
              "<div>\n",
              "<style scoped>\n",
              "    .dataframe tbody tr th:only-of-type {\n",
              "        vertical-align: middle;\n",
              "    }\n",
              "\n",
              "    .dataframe tbody tr th {\n",
              "        vertical-align: top;\n",
              "    }\n",
              "\n",
              "    .dataframe thead th {\n",
              "        text-align: right;\n",
              "    }\n",
              "</style>\n",
              "<table border=\"1\" class=\"dataframe\">\n",
              "  <thead>\n",
              "    <tr style=\"text-align: right;\">\n",
              "      <th></th>\n",
              "      <th>Id</th>\n",
              "      <th>SalePrice</th>\n",
              "    </tr>\n",
              "  </thead>\n",
              "  <tbody>\n",
              "    <tr>\n",
              "      <th>0</th>\n",
              "      <td>1461</td>\n",
              "      <td>117347.030253</td>\n",
              "    </tr>\n",
              "    <tr>\n",
              "      <th>1</th>\n",
              "      <td>1462</td>\n",
              "      <td>160998.107331</td>\n",
              "    </tr>\n",
              "    <tr>\n",
              "      <th>2</th>\n",
              "      <td>1463</td>\n",
              "      <td>184621.841886</td>\n",
              "    </tr>\n",
              "    <tr>\n",
              "      <th>3</th>\n",
              "      <td>1464</td>\n",
              "      <td>185997.375609</td>\n",
              "    </tr>\n",
              "    <tr>\n",
              "      <th>4</th>\n",
              "      <td>1465</td>\n",
              "      <td>200321.890782</td>\n",
              "    </tr>\n",
              "  </tbody>\n",
              "</table>\n",
              "</div>"
            ],
            "text/plain": [
              "     Id      SalePrice\n",
              "0  1461  117347.030253\n",
              "1  1462  160998.107331\n",
              "2  1463  184621.841886\n",
              "3  1464  185997.375609\n",
              "4  1465  200321.890782"
            ]
          },
          "metadata": {
            "tags": []
          },
          "execution_count": 14
        }
      ]
    }
  ]
}